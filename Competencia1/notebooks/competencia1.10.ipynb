{
  "cells": [
    {
      "cell_type": "markdown",
      "metadata": {},
      "source": [
        "# Competencia 1 Kaggle"
      ]
    },
    {
      "cell_type": "markdown",
      "metadata": {},
      "source": [
        "## 1. Environment Setup"
      ]
    },
    {
      "cell_type": "code",
      "execution_count": 1,
      "metadata": {
        "vscode": {
          "languageId": "r"
        }
      },
      "outputs": [
        {
          "data": {
            "text/html": [
              "<table class=\"dataframe\">\n",
              "<caption>A matrix: 2 x 7 of type dbl</caption>\n",
              "<thead>\n",
              "\t<tr><th></th><th scope=col>used</th><th scope=col>(Mb)</th><th scope=col>gc trigger</th><th scope=col>(Mb)</th><th scope=col>limit (Mb)</th><th scope=col>max used</th><th scope=col>(Mb)</th></tr>\n",
              "</thead>\n",
              "<tbody>\n",
              "\t<tr><th scope=row>Ncells</th><td> 659012</td><td>35.2</td><td>1462277</td><td>78.1</td><td>   NA</td><td>1088797</td><td>58.2</td></tr>\n",
              "\t<tr><th scope=row>Vcells</th><td>1225538</td><td> 9.4</td><td>8388608</td><td>64.0</td><td>32768</td><td>2010932</td><td>15.4</td></tr>\n",
              "</tbody>\n",
              "</table>\n"
            ],
            "text/latex": [
              "A matrix: 2 x 7 of type dbl\n",
              "\\begin{tabular}{r|lllllll}\n",
              "  & used & (Mb) & gc trigger & (Mb) & limit (Mb) & max used & (Mb)\\\\\n",
              "\\hline\n",
              "\tNcells &  659012 & 35.2 & 1462277 & 78.1 &    NA & 1088797 & 58.2\\\\\n",
              "\tVcells & 1225538 &  9.4 & 8388608 & 64.0 & 32768 & 2010932 & 15.4\\\\\n",
              "\\end{tabular}\n"
            ],
            "text/markdown": [
              "\n",
              "A matrix: 2 x 7 of type dbl\n",
              "\n",
              "| <!--/--> | used | (Mb) | gc trigger | (Mb) | limit (Mb) | max used | (Mb) |\n",
              "|---|---|---|---|---|---|---|---|\n",
              "| Ncells |  659012 | 35.2 | 1462277 | 78.1 |    NA | 1088797 | 58.2 |\n",
              "| Vcells | 1225538 |  9.4 | 8388608 | 64.0 | 32768 | 2010932 | 15.4 |\n",
              "\n"
            ],
            "text/plain": [
              "       used    (Mb) gc trigger (Mb) limit (Mb) max used (Mb)\n",
              "Ncells  659012 35.2 1462277    78.1    NA      1088797  58.2\n",
              "Vcells 1225538  9.4 8388608    64.0 32768      2010932  15.4"
            ]
          },
          "metadata": {},
          "output_type": "display_data"
        },
        {
          "name": "stderr",
          "output_type": "stream",
          "text": [
            "Loading required package: data.table\n",
            "\n",
            "Loading required package: parallel\n",
            "\n",
            "Loading required package: R.utils\n",
            "\n",
            "Loading required package: R.oo\n",
            "\n",
            "Loading required package: R.methodsS3\n",
            "\n",
            "R.methodsS3 v1.8.2 (2022-06-13 22:00:14 UTC) successfully loaded. See ?R.methodsS3 for help.\n",
            "\n",
            "R.oo v1.27.1 (2025-05-02 21:00:05 UTC) successfully loaded. See ?R.oo for help.\n",
            "\n",
            "\n",
            "Attaching package: 'R.oo'\n",
            "\n",
            "\n",
            "The following object is masked from 'package:R.methodsS3':\n",
            "\n",
            "    throw\n",
            "\n",
            "\n",
            "The following objects are masked from 'package:methods':\n",
            "\n",
            "    getClasses, getMethods\n",
            "\n",
            "\n",
            "The following objects are masked from 'package:base':\n",
            "\n",
            "    attach, detach, load, save\n",
            "\n",
            "\n",
            "R.utils v2.13.0 (2025-02-24 21:20:02 UTC) successfully loaded. See ?R.utils for help.\n",
            "\n",
            "\n",
            "Attaching package: 'R.utils'\n",
            "\n",
            "\n",
            "The following object is masked from 'package:utils':\n",
            "\n",
            "    timestamp\n",
            "\n",
            "\n",
            "The following objects are masked from 'package:base':\n",
            "\n",
            "    cat, commandArgs, getOption, isOpen, nullfile, parse, use, warnings\n",
            "\n",
            "\n",
            "Loading required package: primes\n",
            "\n",
            "Loading required package: rlist\n",
            "\n",
            "Loading required package: yaml\n",
            "\n",
            "Loading required package: lightgbm\n",
            "\n",
            "Loading required package: DiceKriging\n",
            "\n",
            "Loading required package: mlrMBO\n",
            "\n",
            "Loading required package: mlr\n",
            "\n",
            "Loading required package: ParamHelpers\n",
            "\n",
            "\n",
            "Attaching package: 'ParamHelpers'\n",
            "\n",
            "\n",
            "The following object is masked from 'package:R.utils':\n",
            "\n",
            "    isVector\n",
            "\n",
            "\n",
            "\n",
            "Attaching package: 'mlr'\n",
            "\n",
            "\n",
            "The following objects are masked from 'package:R.utils':\n",
            "\n",
            "    resample, setThreshold\n",
            "\n",
            "\n",
            "Loading required package: smoof\n",
            "\n",
            "Loading required package: checkmate\n",
            "\n",
            "\n",
            "Attaching package: 'checkmate'\n",
            "\n",
            "\n",
            "The following object is masked from 'package:DiceKriging':\n",
            "\n",
            "    checkNames\n",
            "\n",
            "\n",
            "The following object is masked from 'package:R.utils':\n",
            "\n",
            "    asInt\n",
            "\n",
            "\n",
            "\n",
            "Attaching package: 'smoof'\n",
            "\n",
            "\n",
            "The following objects are masked from 'package:R.oo':\n",
            "\n",
            "    getDescription, getName\n",
            "\n",
            "\n",
            "Loading required package: ggplot2\n",
            "\n"
          ]
        },
        {
          "name": "stdout",
          "output_type": "stream",
          "text": [
            "Libraries loaded successfully\n",
            "Timestamp: Tue Oct 07 22:15:19 2025 \n"
          ]
        }
      ],
      "source": [
        "# Clear environment\n",
        "rm(list = ls(all.names = TRUE))\n",
        "gc(full = TRUE, verbose = FALSE)\n",
        "\n",
        "# Load required libraries\n",
        "require(\"data.table\")\n",
        "require(\"parallel\")\n",
        "require(\"R.utils\")\n",
        "require(\"primes\")\n",
        "require(\"utils\")\n",
        "require(\"rlist\")\n",
        "require(\"yaml\")\n",
        "require(\"lightgbm\")\n",
        "require(\"DiceKriging\")\n",
        "require(\"mlrMBO\")\n",
        "require(\"ggplot2\")\n",
        "\n",
        "cat(\"Libraries loaded successfully\\n\")\n",
        "cat(\"Timestamp:\", format(Sys.time(), \"%a %b %d %X %Y\"), \"\\n\")"
      ]
    },
    {
      "cell_type": "markdown",
      "metadata": {},
      "source": [
        "## 2. Configuration"
      ]
    },
    {
      "cell_type": "code",
      "execution_count": 2,
      "metadata": {
        "vscode": {
          "languageId": "r"
        }
      },
      "outputs": [
        {
          "name": "stdout",
          "output_type": "stream",
          "text": [
            "Environment: Local \n",
            "Base path: /Users/manumoreira/Repos/dmeyf2025/Competencia1 \n",
            "Data path: ./data/competencia_01_crudo.csv \n"
          ]
        }
      ],
      "source": [
        "# Environment detection and paths\n",
        "IS_COLAB <- dir.exists(\"/content/buckets\")\n",
        "\n",
        "if (IS_COLAB) {\n",
        "  # Colab setup - mount drive first\n",
        "  # from google.colab import drive\n",
        "  # drive.mount('/content/.drive')\n",
        "  \n",
        "  # Create directory structure\n",
        "  system(\"mkdir -p '/content/.drive/My Drive/dmeyf'\")\n",
        "  system(\"mkdir -p /content/buckets\")\n",
        "  system(\"ln -s '/content/.drive/My Drive/dmeyf' /content/buckets/b1\")\n",
        "  system(\"mkdir -p /content/buckets/b1/exp\")\n",
        "  system(\"mkdir -p /content/buckets/b1/datasets\")\n",
        "  system(\"mkdir -p /content/datasets\")\n",
        "  \n",
        "  # Download dataset if needed\n",
        "  if (!file.exists(\"/content/buckets/b1/datasets/competencia_01_crudo.csv\")) {\n",
        "    download.file(\n",
        "      \"https://storage.googleapis.com/open-courses/dmeyf2025-e4a2/competencia_01_crudo.csv\",\n",
        "      \"/content/buckets/b1/datasets/competencia_01_crudo.csv\"\n",
        "    )\n",
        "  }\n",
        "  \n",
        "  BASE_PATH <- \"/content/buckets/b1\"\n",
        "  DATA_PATH <- \"/content/datasets/competencia_01_crudo.csv\"\n",
        "} else {\n",
        "  # Local setup\n",
        "  setwd('/Users/manumoreira/Repos/dmeyf2025/Competencia1/')\n",
        "  BASE_PATH <- getwd()\n",
        "  DATA_PATH <- \"./data/competencia_01_crudo.csv\"\n",
        "}\n",
        "\n",
        "cat(\"Environment:\", ifelse(IS_COLAB, \"Colab\", \"Local\"), \"\\n\")\n",
        "cat(\"Base path:\", BASE_PATH, \"\\n\")\n",
        "cat(\"Data path:\", DATA_PATH, \"\\n\")"
      ]
    },
    {
      "cell_type": "code",
      "execution_count": 3,
      "metadata": {
        "vscode": {
          "languageId": "r"
        }
      },
      "outputs": [
        {
          "name": "stdout",
          "output_type": "stream",
          "text": [
            "Parameters configured:\n",
            "  Experiment: 8 \n",
            "  Seed: 450343 \n",
            "  Training periods: 202101, 202102, 202103 \n",
            "  Validation period: 202104 \n",
            "  Future period: 202106 \n"
          ]
        }
      ],
      "source": [
        "# Experiment parameters\n",
        "PARAM <- list()\n",
        "PARAM$experimento <- 8\n",
        "PARAM$semilla_primigenia <- 450343\n",
        "\n",
        "# Training periods\n",
        "PARAM$train <- c(202101, 202102, 202103)\n",
        "PARAM$train_validate <- c(202101, 202102, 202103)\n",
        "PARAM$validate <- c(202104)\n",
        "PARAM$train_final <- c(202101, 202102, 202103, 202104)\n",
        "PARAM$future <- c(202106)\n",
        "\n",
        "# Kaggle parameters\n",
        "PARAM$semilla_kaggle <- 314159\n",
        "PARAM$cortes <- seq(6000, 19000, by = 500)\n",
        "\n",
        "# Training strategy\n",
        "PARAM$trainingstrategy$undersampling <- 0.4\n",
        "\n",
        "# Hyperparameter tuning\n",
        "PARAM$hyperparametertuning$xval_folds <- 5\n",
        "PARAM$hyperparametertuning$iteraciones <- 60\n",
        "\n",
        "cat(\"Parameters configured:\\n\")\n",
        "cat(\"  Experiment:\", PARAM$experimento, \"\\n\")\n",
        "cat(\"  Seed:\", PARAM$semilla_primigenia, \"\\n\")\n",
        "cat(\"  Training periods:\", paste(PARAM$train, collapse = \", \"), \"\\n\")\n",
        "cat(\"  Validation period:\", PARAM$validate, \"\\n\")\n",
        "cat(\"  Future period:\", PARAM$future, \"\\n\")"
      ]
    },
    {
      "cell_type": "code",
      "execution_count": 4,
      "metadata": {
        "vscode": {
          "languageId": "r"
        }
      },
      "outputs": [
        {
          "name": "stdout",
          "output_type": "stream",
          "text": [
            "LightGBM fixed parameters configured\n"
          ]
        }
      ],
      "source": [
        "# LightGBM fixed parameters\n",
        "PARAM$lgbm$param_fijos <- list(\n",
        "  boosting = \"gbdt\",\n",
        "  objective = \"binary\",\n",
        "  metric = \"auc\",\n",
        "  first_metric_only = FALSE,\n",
        "  boost_from_average = TRUE,\n",
        "  feature_pre_filter = FALSE,\n",
        "  force_row_wise = TRUE,\n",
        "  verbosity = -100,\n",
        "  seed = PARAM$semilla_primigenia,\n",
        "  max_depth = -1L,\n",
        "  min_gain_to_split = 0,\n",
        "  min_sum_hessian_in_leaf = 0.001,\n",
        "  lambda_l1 = 0.0,\n",
        "  lambda_l2 = 0.0,\n",
        "  max_bin = 31L,\n",
        "  bagging_fraction = 1.0,\n",
        "  pos_bagging_fraction = 1.0,\n",
        "  neg_bagging_fraction = 1.0,\n",
        "  is_unbalance = FALSE,\n",
        "  scale_pos_weight = 1.0,\n",
        "  drop_rate = 0.1,\n",
        "  max_drop = 50,\n",
        "  skip_drop = 0.5,\n",
        "  extra_trees = FALSE,\n",
        "  num_iterations = 1200,\n",
        "  learning_rate = 0.02,\n",
        "  feature_fraction = 0.5,\n",
        "  num_leaves = 750,\n",
        "  min_data_in_leaf = 3\n",
        ")\n",
        "\n",
        "cat(\"LightGBM fixed parameters configured\\n\")"
      ]
    },
    {
      "cell_type": "code",
      "execution_count": 5,
      "metadata": {
        "vscode": {
          "languageId": "r"
        }
      },
      "outputs": [
        {
          "name": "stdout",
          "output_type": "stream",
          "text": [
            "Hyperparameter search space defined\n",
            "  Number of hyperparameters to tune: 9 \n"
          ]
        }
      ],
      "source": [
        "# Hyperparameter search space\n",
        "PARAM$hypeparametertuning$hs <- makeParamSet(\n",
        "  makeIntegerParam(\"num_iterations\", lower = 8L, upper = 2048L),\n",
        "  makeNumericParam(\"learning_rate\", lower = 0.01, upper = 0.3),\n",
        "  makeNumericParam(\"feature_fraction\", lower = 0.1, upper = 1.0),\n",
        "  makeIntegerParam(\"num_leaves\", lower = 8L, upper = 2048L),\n",
        "  makeIntegerParam(\"lambda_1\", lower = 0, upper = 15),\n",
        "  makeNumericParam(\"min_gain_to_split\", lower = 0.1, upper = 1.0),\n",
        "  makeIntegerParam(\"max_depth\", lower = 1, upper = 15),\n",
        "  makeIntegerParam(\"bagging_freq\", lower = 1, upper = 10),\n",
        "  makeNumericParam(\"bagging_fraction\", lower = 0.1, upper = 1.0)\n",
        ")\n",
        "\n",
        "cat(\"Hyperparameter search space defined\\n\")\n",
        "cat(\"  Number of hyperparameters to tune:\", length(PARAM$hypeparametertuning$hs$pars), \"\\n\")"
      ]
    },
    {
      "cell_type": "markdown",
      "metadata": {},
      "source": [
        "## 3. Data Loading and Feature Engineering"
      ]
    },
    {
      "cell_type": "code",
      "execution_count": 6,
      "metadata": {
        "vscode": {
          "languageId": "r"
        }
      },
      "outputs": [
        {
          "name": "stdout",
          "output_type": "stream",
          "text": [
            "Dataset loaded:\n",
            "  Rows: 978439 \n",
            "  Columns: 154 \n",
            "  Memory: 847.3 Mb \n"
          ]
        }
      ],
      "source": [
        "# Load dataset\n",
        "dataset <- fread(DATA_PATH, stringsAsFactors = TRUE)\n",
        "\n",
        "cat(\"Dataset loaded:\\n\")\n",
        "cat(\"  Rows:\", nrow(dataset), \"\\n\")\n",
        "cat(\"  Columns:\", ncol(dataset), \"\\n\")\n",
        "cat(\"  Memory:\", format(object.size(dataset), units = \"MB\"), \"\\n\")"
      ]
    },
    {
      "cell_type": "code",
      "execution_count": 7,
      "metadata": {
        "vscode": {
          "languageId": "r"
        }
      },
      "outputs": [],
      "source": [
        "# Pasar columnas en $ a ranking por mes \n",
        "\n",
        "# Function to create separate rankings\n",
        "rank_separate_by_month <- function(dt, columns, month_col = \"foto_mes\") {\n",
        "  new_cols <- paste0(columns, \"_ranked\")\n",
        "  \n",
        "  for(i in seq_along(columns)) {\n",
        "    col <- columns[i]\n",
        "    new_col <- new_cols[i]\n",
        "    \n",
        "    # Initialize with NAs\n",
        "    dt[, (new_col) := NA_real_]\n",
        "    \n",
        "    # Rank within each month\n",
        "    dt[!is.na(get(col)), (new_col) := {\n",
        "      # Handle negatives\n",
        "      neg_vals <- get(col)[get(col) < 0]\n",
        "      neg_ranks <- if(length(neg_vals) > 0) -frank(-neg_vals) else numeric(0)\n",
        "      \n",
        "      # Handle positives\n",
        "      pos_vals <- get(col)[get(col) > 0]\n",
        "      pos_ranks <- if(length(pos_vals) > 0) frank(pos_vals) else numeric(0)\n",
        "      \n",
        "      # Handle zeros\n",
        "      zero_vals <- get(col)[get(col) == 0]\n",
        "      \n",
        "      # Combine results\n",
        "      result <- rep(0, length(get(col)))\n",
        "      result[get(col) < 0] <- neg_ranks\n",
        "      result[get(col) > 0] <- pos_ranks\n",
        "      result[get(col) == 0] <- 0\n",
        "      result\n",
        "    }, by = get(month_col)]\n",
        "  }\n",
        "  \n",
        "  return(dt)\n",
        "}\n",
        "\n",
        "# Usage:\n",
        "dataset <- rank_separate_by_month(dataset, c(\"mrentabilidad\", \"mrentabilidad_annual\", \"mcomisiones\", \"mactivos_margen\", \"mpasivos_margen\", \n",
        "                \"mcuenta_corriente_adicional\", \"mcuenta_corriente\", \"mcaja_ahorro\", \"mcaja_ahorro_adicional\", \n",
        "                \"mcaja_ahorro_dolares\", \"mcuentas_saldo\", \"mautoservicio\", \"mtarjeta_visa_consumo\", \"mtarjeta_master_consumo\", \n",
        "                \"mprestamos_personales\", \"mprestamos_prendarios\", \"mprestamos_hipotecarios\", \"mplazo_fijo_dolares\", \n",
        "                \"mplazo_fijo_pesos\", \"minversion1_pesos\", \"minversion1_dolares\", \"minversion2\", \"mpayroll\", \"mpayroll2\", \n",
        "                \"mcuenta_debitos_automaticos\", \"mttarjeta_visa_debitos_automaticos\", \"mttarjeta_master_debitos_automaticos\", \n",
        "                \"mpagodeservicios\", \"mpagomiscuentas\", \"mcajeros_propios_descuentos\", \"mtarjeta_visa_descuentos\", \n",
        "                \"mtarjeta_master_descuentos\", \"mcomisiones_mantenimiento\", \"mcomisiones_otras\", \"mforex_buy\", \"mforex_sell\", \n",
        "                \"mtransferencias_recibidas\", \"mtransferencias_emitidas\", \"mextraccion_autoservicio\", \"mcheques_depositados\", \n",
        "                \"mcheques_emitidos\", \"mcheques_depositados_rechazados\", \"mcheques_emitidos_rechazados\", \"matm\", \"matm_other\", \n",
        "                \"Master_mfinanciacion_limite\", \"Master_msaldototal\", \"Master_msaldopesos\", \"Master_msaldodolares\", \n",
        "                \"Master_mconsumospesos\", \"Master_mconsumosdolares\", \"Master_mlimitecompra\", \"Master_madelantopesos\", \n",
        "                \"Master_madelantodolares\", \"Master_mpagado\", \"Master_mpagospesos\", \"Master_mpagosdolares\", \n",
        "                \"Master_mconsumototal\", \"Master_mpagominimo\", \"Visa_mfinanciacion_limite\", \"Visa_msaldototal\", \n",
        "                \"Visa_msaldopesos\", \"Visa_msaldodolares\", \"Visa_mconsumospesos\", \"Visa_mconsumosdolares\", \n",
        "                \"Visa_mlimitecompra\", \"Visa_madelantopesos\", \"Visa_madelantodolares\", \"Visa_mpagado\", \"Visa_mpagospesos\", \n",
        "                \"Visa_mpagosdolares\", \"Visa_mconsumototal\", \"Visa_mpagominimo\"))"
      ]
    },
    {
      "cell_type": "code",
      "execution_count": 9,
      "metadata": {
        "vscode": {
          "languageId": "r"
        }
      },
      "outputs": [
        {
          "name": "stdout",
          "output_type": "stream",
          "text": [
            "               Column foto_mes Orig_Median Orig_IQR  Orig_Min  Orig_Max\n",
            "               <char>    <int>       <num>    <num>     <num>     <num>\n",
            "  1:    mrentabilidad   202101    1094.090 2957.880 -440340.5  579180.5\n",
            "  2:    mrentabilidad   202102     952.460 2648.160 -625079.0 1422599.8\n",
            "  3:    mrentabilidad   202103    1247.720 3277.510 -550651.6  897381.3\n",
            "  4:    mrentabilidad   202104    1126.795 2969.628 -602558.4  798611.7\n",
            "  5:    mrentabilidad   202105    1221.970 3045.550 -414139.6  602532.7\n",
            " ---                                                                   \n",
            "434: Visa_mpagominimo   202102    2228.700 5466.180       0.0 2199058.3\n",
            "435: Visa_mpagominimo   202103    2240.430 5348.880       0.0 1820883.1\n",
            "436: Visa_mpagominimo   202104    2240.430 5032.170       0.0 3814220.6\n",
            "437: Visa_mpagominimo   202105    2346.000 5196.390       0.0 4855762.5\n",
            "438: Visa_mpagominimo   202106    2627.520 5806.350       0.0 2181944.2\n",
            "     Rank_Median Rank_IQR Rank_Min Rank_Max  Count Neg_Count_Orig\n",
            "           <num>    <num>    <num>    <num>  <int>          <int>\n",
            "  1:     38189.0  80436.0   -42247   118952 161527          42247\n",
            "  2:     36365.5  80764.0   -44398   117443 162155          44398\n",
            "  3:     39507.0  81253.0   -41746   121061 163109          41746\n",
            "  4:     38014.0  81414.5   -43400   119723 163418          43400\n",
            "  5:     39685.0  81678.0   -41993   121643 163917          41993\n",
            " ---                                                             \n",
            "434:     53560.5  77352.5        0   130839 162155              0\n",
            "435:     55822.5  77741.0        0   133482 163109              0\n",
            "436:     56170.5  77643.5        0   133874 163418              0\n",
            "437:     56556.0  77834.5        0   134457 163917              0\n",
            "438:     56636.5  78144.0        0   134732 164313              0\n",
            "     Zero_Count_Orig Pos_Count_Orig Neg_Count_Rank Zero_Count_Rank\n",
            "               <int>          <int>          <int>           <int>\n",
            "  1:             328         118952          42247             328\n",
            "  2:             314         117443          44398             314\n",
            "  3:             302         121061          41746             302\n",
            "  4:             295         119723          43400             295\n",
            "  5:             281         121643          41993             281\n",
            " ---                                                              \n",
            "434:           23599         130839              0           23599\n",
            "435:           21836         133482              0           21836\n",
            "436:           21626         133874              0           21626\n",
            "437:           21439         134457              0           21439\n",
            "438:           21516         134732              0           21516\n",
            "     Pos_Count_Rank NA_Count_Orig NA_Count_Rank\n",
            "              <int>         <int>         <int>\n",
            "  1:         118952             0             0\n",
            "  2:         117443             0             0\n",
            "  3:         121061             0             0\n",
            "  4:         119723             0             0\n",
            "  5:         121643             0             0\n",
            " ---                                           \n",
            "434:         130839          7717          7717\n",
            "435:         133482          7791          7791\n",
            "436:         133874          7918          7918\n",
            "437:         134457          8021          8021\n",
            "438:         134732          8065          8065\n"
          ]
        }
      ],
      "source": [
        "# Function to create comparison summary\n",
        "create_compact_monthly_summary <- function(dt, original_cols, month_col = \"foto_mes\") {\n",
        "  ranked_cols <- paste0(original_cols, \"_ranked\")\n",
        "  \n",
        "  summary_list <- lapply(seq_along(original_cols), function(i) {\n",
        "    orig <- original_cols[i]\n",
        "    rank <- ranked_cols[i]\n",
        "    \n",
        "    month_summary <- dt[!is.na(get(month_col)), .(\n",
        "      # Original stats\n",
        "      Orig_Median = median(get(orig), na.rm = TRUE),\n",
        "      Orig_IQR = IQR(get(orig), na.rm = TRUE),\n",
        "      Orig_Min = min(get(orig), na.rm = TRUE),\n",
        "      Orig_Max = max(get(orig), na.rm = TRUE),\n",
        "      \n",
        "      # Ranked stats\n",
        "      Rank_Median = median(get(rank), na.rm = TRUE),\n",
        "      Rank_IQR = IQR(get(rank), na.rm = TRUE),\n",
        "      Rank_Min = min(get(rank), na.rm = TRUE),\n",
        "      Rank_Max = max(get(rank), na.rm = TRUE),\n",
        "      \n",
        "      # Counts\n",
        "      Count = .N,\n",
        "      Neg_Count_Orig = sum(get(orig) < 0, na.rm = TRUE),\n",
        "      Zero_Count_Orig = sum(get(orig) == 0, na.rm = TRUE),\n",
        "      Pos_Count_Orig = sum(get(orig) > 0, na.rm = TRUE),\n",
        "      Neg_Count_Rank = sum(get(rank) < 0, na.rm = TRUE),\n",
        "      Zero_Count_Rank = sum(get(rank) == 0, na.rm = TRUE),\n",
        "      Pos_Count_Rank = sum(get(rank) > 0, na.rm = TRUE),\n",
        "      NA_Count_Orig = sum(is.na(get(orig))),\n",
        "      NA_Count_Rank = sum(is.na(get(rank)))\n",
        "    ), by = month_col]\n",
        "    \n",
        "    # Add column name\n",
        "    month_summary[, Column := orig]\n",
        "    setcolorder(month_summary, c(\"Column\", month_col, names(month_summary)[!names(month_summary) %in% c(\"Column\", month_col)]))\n",
        "    \n",
        "    return(month_summary)\n",
        "  })\n",
        "  \n",
        "  return(rbindlist(summary_list))\n",
        "}\n",
        "\n",
        "# Usage\n",
        "original_cols <- c(\"mrentabilidad\", \"mrentabilidad_annual\", \"mcomisiones\", \"mactivos_margen\", \"mpasivos_margen\", \n",
        "                \"mcuenta_corriente_adicional\", \"mcuenta_corriente\", \"mcaja_ahorro\", \"mcaja_ahorro_adicional\", \n",
        "                \"mcaja_ahorro_dolares\", \"mcuentas_saldo\", \"mautoservicio\", \"mtarjeta_visa_consumo\", \"mtarjeta_master_consumo\", \n",
        "                \"mprestamos_personales\", \"mprestamos_prendarios\", \"mprestamos_hipotecarios\", \"mplazo_fijo_dolares\", \n",
        "                \"mplazo_fijo_pesos\", \"minversion1_pesos\", \"minversion1_dolares\", \"minversion2\", \"mpayroll\", \"mpayroll2\", \n",
        "                \"mcuenta_debitos_automaticos\", \"mttarjeta_visa_debitos_automaticos\", \"mttarjeta_master_debitos_automaticos\", \n",
        "                \"mpagodeservicios\", \"mpagomiscuentas\", \"mcajeros_propios_descuentos\", \"mtarjeta_visa_descuentos\", \n",
        "                \"mtarjeta_master_descuentos\", \"mcomisiones_mantenimiento\", \"mcomisiones_otras\", \"mforex_buy\", \"mforex_sell\", \n",
        "                \"mtransferencias_recibidas\", \"mtransferencias_emitidas\", \"mextraccion_autoservicio\", \"mcheques_depositados\", \n",
        "                \"mcheques_emitidos\", \"mcheques_depositados_rechazados\", \"mcheques_emitidos_rechazados\", \"matm\", \"matm_other\", \n",
        "                \"Master_mfinanciacion_limite\", \"Master_msaldototal\", \"Master_msaldopesos\", \"Master_msaldodolares\", \n",
        "                \"Master_mconsumospesos\", \"Master_mconsumosdolares\", \"Master_mlimitecompra\", \"Master_madelantopesos\", \n",
        "                \"Master_madelantodolares\", \"Master_mpagado\", \"Master_mpagospesos\", \"Master_mpagosdolares\", \n",
        "                \"Master_mconsumototal\", \"Master_mpagominimo\", \"Visa_mfinanciacion_limite\", \"Visa_msaldototal\", \n",
        "                \"Visa_msaldopesos\", \"Visa_msaldodolares\", \"Visa_mconsumospesos\", \"Visa_mconsumosdolares\", \n",
        "                \"Visa_mlimitecompra\", \"Visa_madelantopesos\", \"Visa_madelantodolares\", \"Visa_mpagado\", \"Visa_mpagospesos\", \n",
        "                \"Visa_mpagosdolares\", \"Visa_mconsumototal\", \"Visa_mpagominimo\")\n",
        "rank_summary <- create_compact_monthly_summary(dataset, original_cols)\n",
        "fwrite(rank_summary, file = \"rank_summary.csv\", sep = \",\")\n",
        "print(rank_summary)"
      ]
    },
    {
      "cell_type": "code",
      "execution_count": 8,
      "metadata": {
        "vscode": {
          "languageId": "r"
        }
      },
      "outputs": [
        {
          "name": "stdout",
          "output_type": "stream",
          "text": [
            "Creating lag and delta features...\n",
            "  Fields to transform: 225 \n",
            "  Lag features created\n",
            "  Delta features created\n",
            "  Total columns now: 677 \n"
          ]
        }
      ],
      "source": [
        "# Create lag and delta features\n",
        "exclude_fields <- c(\"numero_de_cliente\", \"foto_mes\", \"clase_ternaria\")\n",
        "fields_to_transform <- setdiff(names(dataset), exclude_fields)\n",
        "\n",
        "cat(\"Creating lag and delta features...\\n\")\n",
        "cat(\"  Fields to transform:\", length(fields_to_transform), \"\\n\")\n",
        "\n",
        "setorder(dataset, numero_de_cliente, foto_mes)\n",
        "\n",
        "# Lag features\n",
        "dataset[, paste0(fields_to_transform, \"_lag1\") := \n",
        "  lapply(.SD, shift, n = 1), \n",
        "  by = numero_de_cliente, \n",
        "  .SDcols = fields_to_transform]\n",
        "\n",
        "cat(\"  Lag features created\\n\")\n",
        "\n",
        "# Delta features\n",
        "dataset[, paste0(fields_to_transform, \"_delta1\") := \n",
        "  lapply(fields_to_transform, function(f) get(f) - get(paste0(f, \"_lag1\")))]\n",
        "\n",
        "cat(\"  Delta features created\\n\")\n",
        "cat(\"  Total columns now:\", ncol(dataset), \"\\n\")"
      ]
    },
    {
      "cell_type": "code",
      "execution_count": null,
      "metadata": {
        "vscode": {
          "languageId": "r"
        }
      },
      "outputs": [],
      "source": [
        "library(data.table)\n",
        "\n",
        "dataset[, relacion_dependencia := FALSE]\n",
        "\n",
        "# Identify and update cases that meet the condition\n",
        "dataset[foto_mes == 202105 & \n",
        "     (mpayroll_lag1 / mpayroll) >= 1.3 & \n",
        "     (mpayroll_lag1 / mpayroll) <= 1.8, \n",
        "   relacion_dependencia := TRUE]\n",
        "   "
      ]
    },
    {
      "cell_type": "code",
      "execution_count": 31,
      "metadata": {
        "vscode": {
          "languageId": "r"
        }
      },
      "outputs": [
        {
          "name": "stdout",
          "output_type": "stream",
          "text": [
            "La columa relacion dependencia tiene"
          ]
        },
        {
          "data": {
            "text/html": [
              "<table class=\"dataframe\">\n",
              "<caption>A data.table: 2 x 2</caption>\n",
              "<thead>\n",
              "\t<tr><th scope=col>relacion_dependencia</th><th scope=col>N</th></tr>\n",
              "\t<tr><th scope=col>&lt;lgl&gt;</th><th scope=col>&lt;int&gt;</th></tr>\n",
              "</thead>\n",
              "<tbody>\n",
              "\t<tr><td>FALSE</td><td>970644</td></tr>\n",
              "\t<tr><td> TRUE</td><td>  7795</td></tr>\n",
              "</tbody>\n",
              "</table>\n"
            ],
            "text/latex": [
              "A data.table: 2 x 2\n",
              "\\begin{tabular}{ll}\n",
              " relacion\\_dependencia & N\\\\\n",
              " <lgl> & <int>\\\\\n",
              "\\hline\n",
              "\t FALSE & 970644\\\\\n",
              "\t  TRUE &   7795\\\\\n",
              "\\end{tabular}\n"
            ],
            "text/markdown": [
              "\n",
              "A data.table: 2 x 2\n",
              "\n",
              "| relacion_dependencia &lt;lgl&gt; | N &lt;int&gt; |\n",
              "|---|---|\n",
              "| FALSE | 970644 |\n",
              "|  TRUE |   7795 |\n",
              "\n"
            ],
            "text/plain": [
              "  relacion_dependencia N     \n",
              "1 FALSE                970644\n",
              "2  TRUE                  7795"
            ]
          },
          "metadata": {},
          "output_type": "display_data"
        }
      ],
      "source": [
        "cat(\"La columa relacion dependencia tiene\")\n",
        "dataset[, .N, list(relacion_dependencia)]"
      ]
    },
    {
      "cell_type": "markdown",
      "metadata": {},
      "source": [
        "## 4. Target Variable Creation (clase_ternaria)"
      ]
    },
    {
      "cell_type": "code",
      "execution_count": 33,
      "metadata": {
        "vscode": {
          "languageId": "r"
        }
      },
      "outputs": [],
      "source": [
        "dsimple <- dataset[, list(\n",
        "    \"pos\" = .I,\n",
        "    numero_de_cliente,\n",
        "    periodo0 = as.integer(foto_mes/100)*12 +  foto_mes%%100 ) ]\n",
        "\n",
        "setorder( dsimple, numero_de_cliente, periodo0 )\n",
        "\n",
        "periodo_ultimo <- dsimple[, max(periodo0) ]\n",
        "periodo_anteultimo <- periodo_ultimo - 1\n",
        "\n",
        "dsimple[, c(\"periodo1\", \"periodo2\") :=\n",
        "    shift(periodo0, n=1:2, fill=NA, type=\"lead\"),  numero_de_cliente ]\n",
        "\n",
        "dsimple[ periodo0 < periodo_anteultimo, clase_ternaria := \"CONTINUA\" ]\n",
        "\n",
        "dsimple[ periodo0 < periodo_ultimo &\n",
        "    ( is.na(periodo1) | periodo0 + 1 < periodo1 ),\n",
        "    clase_ternaria := \"BAJA+1\" ]\n",
        "\n",
        "\n",
        "dsimple[ periodo0 < periodo_anteultimo & (periodo0+1 == periodo1 )\n",
        "    & ( is.na(periodo2) | periodo0 + 2 < periodo2 ),\n",
        "    clase_ternaria := \"BAJA+2\" ]\n",
        "\n",
        "setorder( dsimple, pos )\n",
        "dataset[, clase_ternaria := dsimple$clase_ternaria ]\n",
        "\n",
        "fwrite( dataset,\n",
        "    file =  \"/Users/manumoreira/Repos/dmeyf2025/Competencia1/data/competencia_01.8.csv.gz\",\n",
        "    \n",
        "    sep = \",\"\n",
        ")"
      ]
    },
    {
      "cell_type": "code",
      "execution_count": 34,
      "metadata": {
        "vscode": {
          "languageId": "r"
        }
      },
      "outputs": [
        {
          "data": {
            "text/html": [
              "<table class=\"dataframe\">\n",
              "<caption>A data.table: 15 x 3</caption>\n",
              "<thead>\n",
              "\t<tr><th scope=col>foto_mes</th><th scope=col>clase_ternaria</th><th scope=col>N</th></tr>\n",
              "\t<tr><th scope=col>&lt;int&gt;</th><th scope=col>&lt;chr&gt;</th><th scope=col>&lt;int&gt;</th></tr>\n",
              "</thead>\n",
              "<tbody>\n",
              "\t<tr><td>202101</td><td>BAJA+1  </td><td>   622</td></tr>\n",
              "\t<tr><td>202101</td><td>BAJA+2  </td><td>   825</td></tr>\n",
              "\t<tr><td>202101</td><td>CONTINUA</td><td>160080</td></tr>\n",
              "\t<tr><td>202102</td><td>BAJA+1  </td><td>   831</td></tr>\n",
              "\t<tr><td>202102</td><td>BAJA+2  </td><td>  1032</td></tr>\n",
              "\t<tr><td>202102</td><td>CONTINUA</td><td>160292</td></tr>\n",
              "\t<tr><td>202103</td><td>BAJA+1  </td><td>  1039</td></tr>\n",
              "\t<tr><td>202103</td><td>BAJA+2  </td><td>   951</td></tr>\n",
              "\t<tr><td>202103</td><td>CONTINUA</td><td>161119</td></tr>\n",
              "\t<tr><td>202104</td><td>BAJA+1  </td><td>   955</td></tr>\n",
              "\t<tr><td>202104</td><td>BAJA+2  </td><td>  1130</td></tr>\n",
              "\t<tr><td>202104</td><td>CONTINUA</td><td>161333</td></tr>\n",
              "\t<tr><td>202105</td><td>NA      </td><td>162783</td></tr>\n",
              "\t<tr><td>202105</td><td>BAJA+1  </td><td>  1134</td></tr>\n",
              "\t<tr><td>202106</td><td>NA      </td><td>164313</td></tr>\n",
              "</tbody>\n",
              "</table>\n"
            ],
            "text/latex": [
              "A data.table: 15 x 3\n",
              "\\begin{tabular}{lll}\n",
              " foto\\_mes & clase\\_ternaria & N\\\\\n",
              " <int> & <chr> & <int>\\\\\n",
              "\\hline\n",
              "\t 202101 & BAJA+1   &    622\\\\\n",
              "\t 202101 & BAJA+2   &    825\\\\\n",
              "\t 202101 & CONTINUA & 160080\\\\\n",
              "\t 202102 & BAJA+1   &    831\\\\\n",
              "\t 202102 & BAJA+2   &   1032\\\\\n",
              "\t 202102 & CONTINUA & 160292\\\\\n",
              "\t 202103 & BAJA+1   &   1039\\\\\n",
              "\t 202103 & BAJA+2   &    951\\\\\n",
              "\t 202103 & CONTINUA & 161119\\\\\n",
              "\t 202104 & BAJA+1   &    955\\\\\n",
              "\t 202104 & BAJA+2   &   1130\\\\\n",
              "\t 202104 & CONTINUA & 161333\\\\\n",
              "\t 202105 & NA       & 162783\\\\\n",
              "\t 202105 & BAJA+1   &   1134\\\\\n",
              "\t 202106 & NA       & 164313\\\\\n",
              "\\end{tabular}\n"
            ],
            "text/markdown": [
              "\n",
              "A data.table: 15 x 3\n",
              "\n",
              "| foto_mes &lt;int&gt; | clase_ternaria &lt;chr&gt; | N &lt;int&gt; |\n",
              "|---|---|---|\n",
              "| 202101 | BAJA+1   |    622 |\n",
              "| 202101 | BAJA+2   |    825 |\n",
              "| 202101 | CONTINUA | 160080 |\n",
              "| 202102 | BAJA+1   |    831 |\n",
              "| 202102 | BAJA+2   |   1032 |\n",
              "| 202102 | CONTINUA | 160292 |\n",
              "| 202103 | BAJA+1   |   1039 |\n",
              "| 202103 | BAJA+2   |    951 |\n",
              "| 202103 | CONTINUA | 161119 |\n",
              "| 202104 | BAJA+1   |    955 |\n",
              "| 202104 | BAJA+2   |   1130 |\n",
              "| 202104 | CONTINUA | 161333 |\n",
              "| 202105 | NA       | 162783 |\n",
              "| 202105 | BAJA+1   |   1134 |\n",
              "| 202106 | NA       | 164313 |\n",
              "\n"
            ],
            "text/plain": [
              "   foto_mes clase_ternaria N     \n",
              "1  202101   BAJA+1            622\n",
              "2  202101   BAJA+2            825\n",
              "3  202101   CONTINUA       160080\n",
              "4  202102   BAJA+1            831\n",
              "5  202102   BAJA+2           1032\n",
              "6  202102   CONTINUA       160292\n",
              "7  202103   BAJA+1           1039\n",
              "8  202103   BAJA+2            951\n",
              "9  202103   CONTINUA       161119\n",
              "10 202104   BAJA+1            955\n",
              "11 202104   BAJA+2           1130\n",
              "12 202104   CONTINUA       161333\n",
              "13 202105   NA             162783\n",
              "14 202105   BAJA+1           1134\n",
              "15 202106   NA             164313"
            ]
          },
          "metadata": {},
          "output_type": "display_data"
        }
      ],
      "source": [
        "setorder( dataset, foto_mes, clase_ternaria, numero_de_cliente)\n",
        "dataset[, .N, list(foto_mes, clase_ternaria)]"
      ]
    },
    {
      "cell_type": "markdown",
      "metadata": {},
      "source": [
        "## 5. Helper Functions"
      ]
    },
    {
      "cell_type": "code",
      "execution_count": 35,
      "metadata": {
        "vscode": {
          "languageId": "r"
        }
      },
      "outputs": [
        {
          "name": "stdout",
          "output_type": "stream",
          "text": [
            "Helper functions defined\n"
          ]
        }
      ],
      "source": [
        "# Stratified partitioning\n",
        "particionar <- function(data, division, agrupa = \"\", campo = \"fold\", start = 1, seed = NA) {\n",
        "  if (!is.na(seed)) set.seed(seed, \"L'Ecuyer-CMRG\")\n",
        "  \n",
        "  bloque <- unlist(mapply(\n",
        "    function(x, y) rep(y, x), \n",
        "    division, \n",
        "    seq(from = start, length.out = length(division))\n",
        "  ))\n",
        "  \n",
        "  data[, (campo) := sample(rep(bloque, ceiling(.N / length(bloque))))[1:.N], by = agrupa]\n",
        "}\n",
        "\n",
        "# Initialize reality dataset for gain evaluation\n",
        "realidad_inicializar <- function(pfuture, pparam) {\n",
        "  drealidad <- pfuture[, list(numero_de_cliente, foto_mes, clase_ternaria)]\n",
        "  particionar(drealidad, division = c(3, 7), agrupa = \"clase_ternaria\", \n",
        "              seed = PARAM$semilla_kaggle)\n",
        "  return(drealidad)\n",
        "}\n",
        "\n",
        "# Evaluate gain (simulates Kaggle split)\n",
        "realidad_evaluar <- function(prealidad, pprediccion) {\n",
        "  prealidad[pprediccion, on = c(\"numero_de_cliente\", \"foto_mes\"), \n",
        "            predicted := i.Predicted]\n",
        "  \n",
        "  tbl <- prealidad[, list(qty = .N), by = list(fold, predicted, clase_ternaria)]\n",
        "  \n",
        "  res <- list()\n",
        "  res$public <- tbl[fold == 1 & predicted == 1L, \n",
        "    sum(qty * ifelse(clase_ternaria == \"BAJA+2\", 780000, -20000))] / 0.3\n",
        "  res$private <- tbl[fold == 2 & predicted == 1L, \n",
        "    sum(qty * ifelse(clase_ternaria == \"BAJA+2\", 780000, -20000))] / 0.7\n",
        "  res$total <- tbl[predicted == 1L, \n",
        "    sum(qty * ifelse(clase_ternaria == \"BAJA+2\", 780000, -20000))]\n",
        "  \n",
        "  prealidad[, predicted := NULL]\n",
        "  return(res)\n",
        "}\n",
        "\n",
        "# Objective function for Bayesian Optimization\n",
        "EstimarGanancia_AUC_lightgbm <- function(x) {\n",
        "  param_completo <- modifyList(PARAM$lgbm$param_fijos, x)\n",
        "  \n",
        "  modelocv <- lgb.cv(\n",
        "    data = dtrain,\n",
        "    nfold = PARAM$hyperparametertuning$xval_folds,\n",
        "    stratified = TRUE,\n",
        "    param = param_completo\n",
        "  )\n",
        "  \n",
        "  AUC <- modelocv$best_score\n",
        "  rm(modelocv)\n",
        "  gc(full = TRUE, verbose = FALSE)\n",
        "  \n",
        "  message(format(Sys.time(), \"%a %b %d %X %Y\"), \" AUC \", AUC)\n",
        "  return(AUC)\n",
        "}\n",
        "\n",
        "cat(\"Helper functions defined\\n\")"
      ]
    },
    {
      "cell_type": "markdown",
      "metadata": {},
      "source": [
        "## 6. Training Dataset Preparation"
      ]
    },
    {
      "cell_type": "code",
      "execution_count": 36,
      "metadata": {
        "vscode": {
          "languageId": "r"
        }
      },
      "outputs": [
        {
          "name": "stdout",
          "output_type": "stream",
          "text": [
            "Working directory: /Users/manumoreira/Repos/dmeyf2025/Competencia1/results/exp008_seed_450343 \n"
          ]
        }
      ],
      "source": [
        "# Create experiment directory\n",
        "exp_name <- sprintf(\"exp%03d_seed_%d\", PARAM$experimento, PARAM$semilla_primigenia)\n",
        "exp_dir <- file.path(BASE_PATH, \"results\", exp_name)\n",
        "dir.create(exp_dir, recursive = TRUE, showWarnings = FALSE)\n",
        "setwd(exp_dir)\n",
        "\n",
        "cat(\"Working directory:\", getwd(), \"\\n\")"
      ]
    },
    {
      "cell_type": "code",
      "execution_count": 39,
      "metadata": {
        "vscode": {
          "languageId": "r"
        }
      },
      "outputs": [
        {
          "name": "stdout",
          "output_type": "stream",
          "text": [
            "Training dataset:\n",
            "  Total rows: 486791 \n",
            "   clase_ternaria      N\n",
            "           <char>  <int>\n",
            "1:         BAJA+1   2492\n",
            "2:         BAJA+2   2808\n",
            "3:       CONTINUA 481491\n"
          ]
        }
      ],
      "source": [
        "# Filter training data\n",
        "dataset_train <- dataset[foto_mes %in% PARAM$train]\n",
        "\n",
        "cat(\"Training dataset:\\n\")\n",
        "cat(\"  Total rows:\", nrow(dataset_train), \"\\n\")\n",
        "print(dataset_train[, .N, by = clase_ternaria])"
      ]
    },
    {
      "cell_type": "code",
      "execution_count": 40,
      "metadata": {
        "vscode": {
          "languageId": "r"
        }
      },
      "outputs": [
        {
          "name": "stdout",
          "output_type": "stream",
          "text": [
            "\n",
            "After undersampling:\n",
            "   clase_ternaria      N\n",
            "           <char>  <int>\n",
            "1:         BAJA+1   2492\n",
            "2:         BAJA+2   2808\n",
            "3:       CONTINUA 192637\n",
            "  Total training rows: 197937 \n"
          ]
        }
      ],
      "source": [
        "# Apply undersampling\n",
        "set.seed(PARAM$semilla_primigenia, kind = \"L'Ecuyer-CMRG\")\n",
        "dataset_train[, azar := runif(nrow(dataset_train))]\n",
        "dataset_train[, training := 0L]\n",
        "\n",
        "dataset_train[\n",
        "  foto_mes %in% PARAM$train &\n",
        "    (azar <= PARAM$trainingstrategy$undersampling | \n",
        "     clase_ternaria %in% c(\"BAJA+1\", \"BAJA+2\")),\n",
        "  training := 1L\n",
        "]\n",
        "\n",
        "cat(\"\\nAfter undersampling:\\n\")\n",
        "print(dataset_train[training == 1L, .N, by = clase_ternaria])\n",
        "cat(\"  Total training rows:\", dataset_train[training == 1L, .N], \"\\n\")"
      ]
    },
    {
      "cell_type": "code",
      "execution_count": 41,
      "metadata": {
        "vscode": {
          "languageId": "r"
        }
      },
      "outputs": [
        {
          "name": "stdout",
          "output_type": "stream",
          "text": [
            "Features for training: 678 \n",
            "LightGBM training dataset created:\n",
            "  Rows: 197937 \n",
            "  Columns: 678 \n"
          ]
        }
      ],
      "source": [
        "# Clase01 binaria de la clase ternaria\n",
        "dataset_train[,\n",
        "  clase01 := ifelse(clase_ternaria %in% c(\"BAJA+2\",\"BAJA+1\"), 1L, 0L)\n",
        "]\n",
        "# Define features\n",
        "campos_buenos <- setdiff(\n",
        "  colnames(dataset_train),\n",
        "  c(\"clase_ternaria\", \"clase01\", \"azar\", \"training\")\n",
        ")\n",
        "\n",
        "cat(\"Features for training:\", length(campos_buenos), \"\\n\")\n",
        "\n",
        "# Create LightGBM dataset\n",
        "dtrain <- lgb.Dataset(\n",
        "  data = data.matrix(dataset_train[training == 1L, campos_buenos, with = FALSE]),\n",
        "  label = dataset_train[training == 1L, clase01],\n",
        "  free_raw_data = FALSE\n",
        ")\n",
        "\n",
        "cat(\"LightGBM training dataset created:\\n\")\n",
        "cat(\"  Rows:\", nrow(dtrain), \"\\n\")\n",
        "cat(\"  Columns:\", ncol(dtrain), \"\\n\")"
      ]
    },
    {
      "cell_type": "markdown",
      "metadata": {},
      "source": [
        "## 7. Bayesian Optimization"
      ]
    },
    {
      "cell_type": "code",
      "execution_count": 42,
      "metadata": {
        "vscode": {
          "languageId": "r"
        }
      },
      "outputs": [
        {
          "name": "stdout",
          "output_type": "stream",
          "text": [
            "Bayesian Optimization configured\n",
            "  Iterations: 60 \n"
          ]
        }
      ],
      "source": [
        "# Configure Bayesian Optimization\n",
        "kbayesiana <- \"bayesiana.RDATA\"\n",
        "\n",
        "configureMlr(show.learner.output = FALSE)\n",
        "\n",
        "obj.fun <- makeSingleObjectiveFunction(\n",
        "  fn = EstimarGanancia_AUC_lightgbm,\n",
        "  minimize = FALSE,\n",
        "  noisy = TRUE,\n",
        "  par.set = PARAM$hypeparametertuning$hs,\n",
        "  has.simple.signature = FALSE\n",
        ")\n",
        "\n",
        "ctrl <- makeMBOControl(\n",
        "  save.on.disk.at.time = 600,\n",
        "  save.file.path = kbayesiana\n",
        ")\n",
        "\n",
        "ctrl <- setMBOControlTermination(ctrl, iters = PARAM$hyperparametertuning$iteraciones)\n",
        "ctrl <- setMBOControlInfill(ctrl, crit = makeMBOInfillCritEI())\n",
        "\n",
        "surr.km <- makeLearner(\n",
        "  \"regr.km\",\n",
        "  predict.type = \"se\",\n",
        "  covtype = \"matern3_2\",\n",
        "  control = list(trace = TRUE)\n",
        ")\n",
        "\n",
        "cat(\"Bayesian Optimization configured\\n\")\n",
        "cat(\"  Iterations:\", PARAM$hyperparametertuning$iteraciones, \"\\n\")"
      ]
    },
    {
      "cell_type": "code",
      "execution_count": null,
      "metadata": {
        "vscode": {
          "languageId": "r"
        }
      },
      "outputs": [
        {
          "name": "stdout",
          "output_type": "stream",
          "text": [
            "\n",
            "Starting Bayesian Optimization...\n",
            "This may take several hours depending on iterations\n",
            "\n"
          ]
        },
        {
          "name": "stderr",
          "output_type": "stream",
          "text": [
            "Computing y column(s) for design. Not provided.\n",
            "\n",
            "Tue Oct 07 23:33:22 2025 AUC 0.921650105752358\n",
            "\n"
          ]
        }
      ],
      "source": [
        "# Run Bayesian Optimization (this will take a while)\n",
        "cat(\"\\nStarting Bayesian Optimization...\\n\")\n",
        "cat(\"This may take several hours depending on iterations\\n\\n\")\n",
        "\n",
        "if (!file.exists(kbayesiana)) {\n",
        "  bayesiana_salida <- mbo(obj.fun, learner = surr.km, control = ctrl)\n",
        "} else {\n",
        "  cat(\"Continuing from existing bayesiana.RDATA\\n\")\n",
        "  bayesiana_salida <- mboContinue(kbayesiana)\n",
        "}\n",
        "\n",
        "cat(\"\\nBayesian Optimization completed\\n\")"
      ]
    },
    {
      "cell_type": "code",
      "execution_count": 21,
      "metadata": {
        "vscode": {
          "languageId": "r"
        }
      },
      "outputs": [
        {
          "name": "stdout",
          "output_type": "stream",
          "text": [
            "\n",
            "Best hyperparameters found:\n",
            "   num_iterations learning_rate feature_fraction num_leaves min_data_in_leaf\n",
            "            <int>         <num>            <num>      <int>            <int>\n",
            "1:           1752    0.04034412        0.3075806        941             1131\n",
            "   lambda_1 min_gain_to_split max_depth bagging_freq bagging_fraction\n",
            "      <int>             <num>     <int>        <int>            <num>\n",
            "1:       10         0.2101285         7           10        0.8532988\n",
            "\n",
            "Best AUC: 0.9279649 \n",
            "\n",
            "Parameters saved to PARAM.yml\n"
          ]
        }
      ],
      "source": [
        "# Save and analyze results\n",
        "tb_bayesiana <- as.data.table(bayesiana_salida$opt.path)\n",
        "tb_bayesiana[, iter := .I]\n",
        "setorder(tb_bayesiana, -y)\n",
        "\n",
        "fwrite(tb_bayesiana, file = \"BO_log.txt\", sep = \"\\t\")\n",
        "\n",
        "# Extract best hyperparameters\n",
        "PARAM$out$lgbm$mejores_hiperparametros <- tb_bayesiana[1, \n",
        "  setdiff(colnames(tb_bayesiana),\n",
        "    c(\"y\", \"dob\", \"eol\", \"error.message\", \"exec.time\", \"ei\", \"error.model\",\n",
        "      \"train.time\", \"prop.type\", \"propose.time\", \"se\", \"mean\", \"iter\")),\n",
        "  with = FALSE\n",
        "]\n",
        "\n",
        "PARAM$out$lgbm$y <- tb_bayesiana[1, y]\n",
        "\n",
        "cat(\"\\nBest hyperparameters found:\\n\")\n",
        "print(PARAM$out$lgbm$mejores_hiperparametros)\n",
        "cat(\"\\nBest AUC:\", PARAM$out$lgbm$y, \"\\n\")\n",
        "\n",
        "write_yaml(PARAM, file = \"PARAM.yml\")\n",
        "cat(\"\\nParameters saved to PARAM.yml\\n\")"
      ]
    },
    {
      "cell_type": "markdown",
      "metadata": {},
      "source": [
        "## 8. Validation - Final Model Training"
      ]
    },
    {
      "cell_type": "code",
      "execution_count": null,
      "metadata": {
        "vscode": {
          "languageId": "r"
        }
      },
      "outputs": [
        {
          "name": "stdout",
          "output_type": "stream",
          "text": [
            "Final training dataset:\n",
            "  Total rows: 650209 \n",
            "   clase_ternaria      N\n",
            "           <char>  <int>\n",
            "1:         BAJA+1   2492\n",
            "2:         BAJA+2   2808\n",
            "3:       CONTINUA 481491\n",
            "\n",
            "LightGBM dataset created for final validation training\n"
          ]
        }
      ],
      "source": [
        "# Prepare final training dataset (includes validation period)\n",
        "dataset_train_validate <- dataset[foto_mes %in% PARAM$train_validate]\n",
        "\n",
        "dataset_train_validate[,\n",
        "  clase01 := ifelse(clase_ternaria %in% c(\"BAJA+2\",\"BAJA+1\"), 1L, 0L)\n",
        "]\n",
        "\n",
        "cat(\"Final training dataset:\\n\")\n",
        "cat(\"  Total rows:\", nrow(dataset_train_final), \"\\n\")\n",
        "print(dataset_train_validate[, .N, by = clase_ternaria])\n",
        "\n",
        "dtrain_validate <- lgb.Dataset(\n",
        "  data = data.matrix(dataset_train_validate[, campos_buenos, with = FALSE]),\n",
        "  label = dataset_train_validate[, clase01]\n",
        ")\n",
        "\n",
        "cat(\"\\nLightGBM dataset created for validation training\\n\")"
      ]
    },
    {
      "cell_type": "code",
      "execution_count": 33,
      "metadata": {
        "vscode": {
          "languageId": "r"
        }
      },
      "outputs": [
        {
          "ename": "ERROR",
          "evalue": "Error in modifyList(PARAM$lgbm$param_fijos, PARAM$out$lgbm$mejores_hiperparametros): is.list(x) is not TRUE\n",
          "output_type": "error",
          "traceback": [
            "Error in modifyList(PARAM$lgbm$param_fijos, PARAM$out$lgbm$mejores_hiperparametros): is.list(x) is not TRUE\nTraceback:\n",
            "1. stopifnot(is.list(x), is.list(val))",
            "2. stop(simpleError(msg, call = if (p <- sys.parent(1L)) sys.call(p)))"
          ]
        }
      ],
      "source": [
        "# Prepare final parameters\n",
        "param_final <- modifyList(PARAM$lgbm$param_fijos, \n",
        "                          PARAM$out$lgbm$mejores_hiperparametros)\n",
        "\n",
        "# Normalize min_data_in_leaf for full dataset (no undersampling)\n",
        "param_normalizado <- copy(param_final)\n",
        "param_normalizado$min_data_in_leaf <- round(\n",
        "  param_final$min_data_in_leaf / PARAM$trainingstrategy$undersampling\n",
        ")\n",
        "\n",
        "cat(\"Final parameters prepared\\n\")\n",
        "cat(\"  Original min_data_in_leaf:\", param_final$min_data_in_leaf, \"\\n\")\n",
        "cat(\"  Normalized min_data_in_leaf:\", param_normalizado$min_data_in_leaf, \"\\n\")"
      ]
    },
    {
      "cell_type": "code",
      "execution_count": 61,
      "metadata": {
        "vscode": {
          "languageId": "r"
        }
      },
      "outputs": [
        {
          "name": "stdout",
          "output_type": "stream",
          "text": [
            "$boosting\n",
            "[1] \"gbdt\"\n",
            "\n",
            "$objective\n",
            "[1] \"binary\"\n",
            "\n",
            "$metric\n",
            "[1] \"auc\"\n",
            "\n",
            "$first_metric_only\n",
            "[1] FALSE\n",
            "\n",
            "$boost_from_average\n",
            "[1] TRUE\n",
            "\n",
            "$feature_pre_filter\n",
            "[1] FALSE\n",
            "\n",
            "$force_row_wise\n",
            "[1] TRUE\n",
            "\n",
            "$verbosity\n",
            "[1] -100\n",
            "\n",
            "$seed\n",
            "[1] 876234\n",
            "\n",
            "$max_depth\n",
            "[1] 7\n",
            "\n",
            "$min_gain_to_split\n",
            "[1] 0.2101285\n",
            "\n",
            "$min_sum_hessian_in_leaf\n",
            "[1] 0.001\n",
            "\n",
            "$lambda_l1\n",
            "[1] 0\n",
            "\n",
            "$lambda_l2\n",
            "[1] 0\n",
            "\n",
            "$max_bin\n",
            "[1] 31\n",
            "\n",
            "$bagging_fraction\n",
            "[1] 0.8532988\n",
            "\n",
            "$pos_bagging_fraction\n",
            "[1] 1\n",
            "\n",
            "$neg_bagging_fraction\n",
            "[1] 1\n",
            "\n",
            "$is_unbalance\n",
            "[1] FALSE\n",
            "\n",
            "$scale_pos_weight\n",
            "[1] 1\n",
            "\n",
            "$drop_rate\n",
            "[1] 0.1\n",
            "\n",
            "$max_drop\n",
            "[1] 50\n",
            "\n",
            "$skip_drop\n",
            "[1] 0.5\n",
            "\n",
            "$extra_trees\n",
            "[1] FALSE\n",
            "\n",
            "$num_iterations\n",
            "[1] 1752\n",
            "\n",
            "$learning_rate\n",
            "[1] 0.04034412\n",
            "\n",
            "$feature_fraction\n",
            "[1] 0.3075806\n",
            "\n",
            "$num_leaves\n",
            "[1] 941\n",
            "\n",
            "$min_data_in_leaf\n",
            "[1] 1131\n",
            "\n",
            "$lambda_1\n",
            "[1] 10\n",
            "\n",
            "$bagging_freq\n",
            "[1] 10\n",
            "\n"
          ]
        }
      ],
      "source": [
        "param_final$seed = 876234\n",
        "print(param_final)"
      ]
    },
    {
      "cell_type": "code",
      "execution_count": null,
      "metadata": {
        "vscode": {
          "languageId": "r"
        }
      },
      "outputs": [
        {
          "name": "stdout",
          "output_type": "stream",
          "text": [
            "\n",
            "Training final model...\n",
            "Final model trained successfully\n"
          ]
        }
      ],
      "source": [
        "# Train final model\n",
        "cat(\"\\nTraining validate model...\\n\")\n",
        "modelo_final <- lgb.train(data = dtrain_validate, param = param_normalizado)\n",
        "cat(\"Final model trained successfully\\n\")"
      ]
    },
    {
      "cell_type": "code",
      "execution_count": 47,
      "metadata": {
        "vscode": {
          "languageId": "r"
        }
      },
      "outputs": [
        {
          "name": "stdout",
          "output_type": "stream",
          "text": [
            "\n",
            "Top 10 most important features:\n",
            "                         Feature       Gain       Cover   Frequency\n",
            "                          <char>      <num>       <num>       <num>\n",
            " 1:                 ctrx_quarter 0.09168622 0.007585951 0.007440734\n",
            " 2:            ctrx_quarter_lag1 0.03632740 0.004667321 0.005421930\n",
            " 3: mtarjeta_visa_consumo_ranked 0.02802941 0.003343210 0.003057046\n",
            " 4:                     mpayroll 0.02601030 0.005524479 0.002172617\n",
            " 5:              mpasivos_margen 0.02560428 0.006081457 0.006210225\n",
            " 6:                 cpayroll_trx 0.02282823 0.004142902 0.001384323\n",
            " 7:        mcuentas_saldo_ranked 0.01951375 0.005155956 0.006671666\n",
            " 8:        mprestamos_personales 0.01757724 0.005489490 0.002595605\n",
            " 9:              mpayroll_ranked 0.01736482 0.005616168 0.002518698\n",
            "10:            mcuenta_corriente 0.01335849 0.006705296 0.007979081\n",
            "\n",
            "Model and importance saved\n"
          ]
        }
      ],
      "source": [
        "# Feature importance\n",
        "tb_importancia <- as.data.table(lgb.importance(modelo_final))\n",
        "fwrite(tb_importancia, file = \"impo.txt\", sep = \"\\t\")\n",
        "\n",
        "cat(\"\\nTop 10 most important features:\\n\")\n",
        "print(head(tb_importancia, 10))\n",
        "\n",
        "# Save model\n",
        "lgb.save(modelo_final, \"modelo.txt\")\n",
        "cat(\"\\nModel and importance saved\\n\")"
      ]
    },
    {
      "cell_type": "markdown",
      "metadata": {},
      "source": [
        "## 9. Validation - Predictions"
      ]
    },
    {
      "cell_type": "code",
      "execution_count": 48,
      "metadata": {
        "vscode": {
          "languageId": "r"
        }
      },
      "outputs": [
        {
          "name": "stdout",
          "output_type": "stream",
          "text": [
            "Validation dataset:\n",
            "  Rows: 163418 \n",
            "   clase_ternaria      N\n",
            "           <char>  <int>\n",
            "1:         BAJA+1    955\n",
            "2:         BAJA+2   1130\n",
            "3:       CONTINUA 161333\n",
            "\n",
            "Predictions generated\n",
            "  Mean probability: 0.009016623 \n",
            "  Min probability: 3.656906e-08 \n",
            "  Max probability: 0.9767194 \n"
          ]
        }
      ],
      "source": [
        "# Predict on validation set\n",
        "dvalidate <- dataset[foto_mes %in% PARAM$validate]\n",
        "\n",
        "cat(\"Validation dataset:\\n\")\n",
        "cat(\"  Rows:\", nrow(dvalidate), \"\\n\")\n",
        "print(dvalidate[, .N, by = clase_ternaria])\n",
        "\n",
        "prediccion <- predict(modelo_final, \n",
        "  data.matrix(dvalidate[, campos_buenos, with = FALSE]))\n",
        "\n",
        "cat(\"\\nPredictions generated\\n\")\n",
        "cat(\"  Mean probability:\", mean(prediccion), \"\\n\")\n",
        "cat(\"  Min probability:\", min(prediccion), \"\\n\")\n",
        "cat(\"  Max probability:\", max(prediccion), \"\\n\")"
      ]
    },
    {
      "cell_type": "code",
      "execution_count": 49,
      "metadata": {
        "vscode": {
          "languageId": "r"
        }
      },
      "outputs": [
        {
          "name": "stdout",
          "output_type": "stream",
          "text": [
            "Prediction table created and saved\n"
          ]
        }
      ],
      "source": [
        "# Prepare prediction table\n",
        "tb_prediccion <- dvalidate[, list(numero_de_cliente, foto_mes)]\n",
        "tb_prediccion[, prob := prediccion]\n",
        "\n",
        "fwrite(tb_prediccion, file = \"prediccion.txt\", sep = \"\\t\")\n",
        "\n",
        "# Initialize reality dataset for gain evaluation\n",
        "drealidad <- realidad_inicializar(dvalidate, PARAM)\n",
        "\n",
        "cat(\"Prediction table created and saved\\n\")"
      ]
    },
    {
      "cell_type": "markdown",
      "metadata": {},
      "source": [
        "## 10. Kaggle Submissions (Validation)"
      ]
    },
    {
      "cell_type": "code",
      "execution_count": 50,
      "metadata": {
        "vscode": {
          "languageId": "r"
        }
      },
      "outputs": [
        {
          "name": "stdout",
          "output_type": "stream",
          "text": [
            "\n",
            "--- Validation Gains ---\n",
            "Envios     Threshold       Total           Public          Private        \n",
            "---------------------------------------------------------------------- \n",
            "6000       0.055502        337600000       288266667       358742857      \n",
            "6500       0.049741        338800000       285866667       361485714      \n",
            "7000       0.045196        343200000       293733333       364400000      \n",
            "7500       0.041246        346000000       294600000       368028571      \n",
            "8000       0.037627        343200000       291266667       365457143      \n",
            "8500       0.034692        350800000       304333333       370714286      \n",
            "9000       0.031943        352000000       304733333       372257143      \n",
            "9500       0.029513        350800000       303000000       371285714      \n",
            "10000      0.027190        353600000       309466667       372514286      \n",
            "10500      0.025397        352400000       308133333       371371429      \n",
            "11000      0.023403        351200000       303266667       371742857      \n",
            "11500      0.021860        349200000       298400000       370971429      \n",
            "12000      0.020478        346400000       293933333       368885714      \n",
            "12500      0.019297        345200000       301533333       363914286      \n",
            "13000      0.018168        349600000       307666667       367571429      \n",
            "13500      0.017018        350800000       311533333       367628571      \n",
            "14000      0.016017        349600000       312200000       365628571      \n",
            "14500      0.014983        347600000       310666667       363428571      \n",
            "15000      0.014100        342400000       307400000       357400000      \n",
            "15500      0.013335        338800000       304800000       353371429      \n",
            "16000      0.012628        334400000       300133333       349085714      \n",
            "16500      0.011972        331600000       294733333       347400000      \n",
            "17000      0.011339        327200000       287000000       344428571      \n",
            "17500      0.010769        323600000       291533333       337342857      \n",
            "18000      0.010238        317600000       284666667       331714286      \n",
            "18500      0.009725        313200000       284866667       325342857      \n",
            "19000      0.009275        306400000       277000000       319000000      \n",
            "\n",
            "Gain results saved to gain_results.csv\n"
          ]
        }
      ],
      "source": [
        "# Generate submissions for different cutoffs\n",
        "setorder(tb_prediccion, -prob)\n",
        "dir.create(\"kaggle\", showWarnings = FALSE)\n",
        "\n",
        "gain_results <- data.table()\n",
        "\n",
        "cat(\"\\n--- Validation Gains ---\\n\")\n",
        "cat(sprintf(\"%-10s %-15s %-15s %-15s %-15s\\n\", \n",
        "            \"Envios\", \"Threshold\", \"Total\", \"Public\", \"Private\"))\n",
        "cat(strrep(\"-\", 70), \"\\n\")\n",
        "\n",
        "for (envios in PARAM$cortes) {\n",
        "  tb_prediccion[, Predicted := 0L]\n",
        "  tb_prediccion[1:envios, Predicted := 1L]\n",
        "  \n",
        "  archivo_kaggle <- paste0(\"./kaggle/KA\", PARAM$experimento, \"_\", envios, \".csv\")\n",
        "  fwrite(tb_prediccion[, list(numero_de_cliente, Predicted)],\n",
        "    file = archivo_kaggle, sep = \",\")\n",
        "  \n",
        "  res <- realidad_evaluar(drealidad, tb_prediccion)\n",
        "  prob_threshold <- tb_prediccion[envios, prob]\n",
        "  \n",
        "  gain_results <- rbind(gain_results, data.table(\n",
        "    envios = envios,\n",
        "    prob_threshold = prob_threshold,\n",
        "    gain_total = res$total,\n",
        "    gain_public = res$public,\n",
        "    gain_private = res$private\n",
        "  ))\n",
        "  \n",
        "  cat(sprintf(\"%-10d %-15.6f %-15.0f %-15.0f %-15.0f\\n\",\n",
        "    envios, prob_threshold, res$total, res$public, res$private))\n",
        "}\n",
        "\n",
        "# Save results\n",
        "fwrite(gain_results, file = \"gain_results.csv\")\n",
        "cat(\"\\nGain results saved to gain_results.csv\\n\")"
      ]
    },
    {
      "cell_type": "code",
      "execution_count": 51,
      "metadata": {
        "vscode": {
          "languageId": "r"
        }
      },
      "outputs": [
        {
          "name": "stdout",
          "output_type": "stream",
          "text": [
            "\n",
            "=== OPTIMAL CUTOFF ===\n",
            "Envios: 10000 \n",
            "Probability threshold: 0.02718995 \n",
            "Total gain: 353600000 \n",
            "Public gain: 309466667 \n",
            "Private gain: 372514286 \n"
          ]
        }
      ],
      "source": [
        "# Find optimal cutoff\n",
        "optimal_row <- gain_results[which.max(gain_total)]\n",
        "\n",
        "cat(\"\\n=== OPTIMAL CUTOFF ===\\n\")\n",
        "cat(\"Envios:\", optimal_row$envios, \"\\n\")\n",
        "cat(\"Probability threshold:\", optimal_row$prob_threshold, \"\\n\")\n",
        "cat(\"Total gain:\", optimal_row$gain_total, \"\\n\")\n",
        "cat(\"Public gain:\", optimal_row$gain_public, \"\\n\")\n",
        "cat(\"Private gain:\", optimal_row$gain_private, \"\\n\")"
      ]
    },
    {
      "cell_type": "code",
      "execution_count": 52,
      "metadata": {
        "vscode": {
          "languageId": "r"
        }
      },
      "outputs": [
        {
          "name": "stderr",
          "output_type": "stream",
          "text": [
            "Warning message:\n",
            "\"\u001b[1m\u001b[22mUsing `size` aesthetic for lines was deprecated in ggplot2 3.4.0.\n",
            "\u001b[36mi\u001b[39m Please use `linewidth` instead.\"\n",
            "Warning message in geom_text(aes(x = optimal_row$envios, y = max(gain_total), label = paste(\"Optimal:\", :\n",
            "\"\u001b[1m\u001b[22mAll aesthetics have length 1, but the data has 27 rows.\n",
            "\u001b[36mi\u001b[39m Please consider using `annotate()` or provide this layer with data containing\n",
            "  a single row.\"\n"
          ]
        },
        {
          "name": "stdout",
          "output_type": "stream",
          "text": [
            "\n",
            "Plots saved:\n",
            "  - gain_vs_envios.png\n",
            "  - gain_vs_threshold.png\n"
          ]
        },
        {
          "name": "stderr",
          "output_type": "stream",
          "text": [
            "Warning message in geom_text(aes(x = optimal_row$envios, y = max(gain_total), label = paste(\"Optimal:\", :\n",
            "\"\u001b[1m\u001b[22mAll aesthetics have length 1, but the data has 27 rows.\n",
            "\u001b[36mi\u001b[39m Please consider using `annotate()` or provide this layer with data containing\n",
            "  a single row.\"\n"
          ]
        },
        {
          "data": {
            "image/png": "[encoded data removed]",
            "text/plain": [
              "plot without title"
            ]
          },
          "metadata": {
            "image/png": {
              "height": 420,
              "width": 420
            }
          },
          "output_type": "display_data"
        },
        {
          "data": {
            "image/png": "[encoded data removed]",
            "text/plain": [
              "plot without title"
            ]
          },
          "metadata": {
            "image/png": {
              "height": 420,
              "width": 420
            }
          },
          "output_type": "display_data"
        }
      ],
      "source": [
        "# Plot results\n",
        "p1 <- ggplot(gain_results, aes(x = envios, y = gain_total)) +\n",
        "  geom_line(color = \"blue\", size = 1) +\n",
        "  geom_point(color = \"blue\", size = 3) +\n",
        "  geom_vline(xintercept = optimal_row$envios, linetype = \"dashed\", color = \"red\") +\n",
        "  geom_text(aes(x = optimal_row$envios, y = max(gain_total), \n",
        "                label = paste(\"Optimal:\", optimal_row$envios)),\n",
        "            hjust = -0.1, color = \"red\") +\n",
        "  labs(title = \"Total Gain vs Number of Submissions\",\n",
        "       x = \"Number of Submissions\", y = \"Total Gain\") +\n",
        "  theme_minimal() +\n",
        "  theme(plot.title = element_text(hjust = 0.5, face = \"bold\"))\n",
        "\n",
        "p2 <- ggplot(gain_results, aes(x = prob_threshold, y = gain_total)) +\n",
        "  geom_line(color = \"darkgreen\", size = 1) +\n",
        "  geom_point(color = \"darkgreen\", size = 3) +\n",
        "  geom_vline(xintercept = optimal_row$prob_threshold, linetype = \"dashed\", color = \"red\") +\n",
        "  labs(title = \"Total Gain vs Probability Threshold\",\n",
        "       x = \"Probability Threshold\", y = \"Total Gain\") +\n",
        "  theme_minimal() +\n",
        "  theme(plot.title = element_text(hjust = 0.5, face = \"bold\"))\n",
        "\n",
        "ggsave(\"gain_vs_envios.png\", p1, width = 10, height = 6)\n",
        "ggsave(\"gain_vs_threshold.png\", p2, width = 10, height = 6)\n",
        "\n",
        "cat(\"\\nPlots saved:\\n\")\n",
        "cat(\"  - gain_vs_envios.png\\n\")\n",
        "cat(\"  - gain_vs_threshold.png\\n\")\n",
        "\n",
        "print(p1)\n",
        "print(p2)"
      ]
    },
    {
      "cell_type": "code",
      "execution_count": null,
      "metadata": {
        "vscode": {
          "languageId": "r"
        }
      },
      "outputs": [
        {
          "name": "stdout",
          "output_type": "stream",
          "text": [
            "=== DEBUG: Starting analysis ===\n",
            "1. Checking object existence...\n",
            "   param_normalizado exists: TRUE \n",
            "   dtrain_validate exists: TRUE \n",
            "   dvalidate exists: TRUE \n",
            "   campos_buenos exists: TRUE \n",
            "   PARAM exists: TRUE \n",
            "2. Checking object types...\n",
            "   param_normalizado type: list \n",
            "   param_normalizado length: 31 \n",
            "   dtrain_validate type: lgb.Dataset R6 \n",
            "   dvalidate dimensions: 163418 678 \n",
            "   campos_buenos length: 677 \n",
            "3. About to start loop...\n"
          ]
        }
      ],
      "source": []
    },
    {
      "cell_type": "code",
      "execution_count": null,
      "metadata": {
        "vscode": {
          "languageId": "r"
        }
      },
      "outputs": [
        {
          "name": "stdout",
          "output_type": "stream",
          "text": [
            "=== DEBUG: Starting analysis ===\n",
            "1. Checking object existence...\n",
            "   param_normalizado exists: TRUE \n",
            "   dtrain_validate exists: TRUE \n",
            "   dvalidate exists: TRUE \n",
            "   campos_buenos exists: TRUE \n",
            "   PARAM exists: TRUE \n",
            "2. Checking object types...\n",
            "   param_normalizado type: list \n",
            "   param_normalizado length: 31 \n",
            "   dtrain_validate type: lgb.Dataset R6 \n",
            "   dvalidate dimensions: 163418 678 \n",
            "   campos_buenos length: 677 \n",
            "3. About to start loop...\n"
          ]
        }
      ],
      "source": [
        "options(scipen = 999)\n",
        "stability_seeds <- c(450421, 450599, 862019)\n",
        "stability_results <- data.table()\n",
        "\n",
        "cat(\"=== DEBUG: Starting analysis ===\\n\")\n",
        "\n",
        "# Check if objects exist\n",
        "cat(\"1. Checking object existence...\\n\")\n",
        "cat(\"   param_normalizado exists:\", exists(\"param_normalizado\"), \"\\n\")\n",
        "cat(\"   dtrain_validate exists:\", exists(\"dtrain_validate\"), \"\\n\") \n",
        "cat(\"   dvalidate exists:\", exists(\"dvalidate\"), \"\\n\")\n",
        "cat(\"   campos_buenos exists:\", exists(\"campos_buenos\"), \"\\n\")\n",
        "cat(\"   PARAM exists:\", exists(\"PARAM\"), \"\\n\")\n",
        "\n",
        "# Check object types and sizes\n",
        "cat(\"2. Checking object types...\\n\")\n",
        "if(exists(\"param_normalizado\")) {\n",
        "  cat(\"   param_normalizado type:\", class(param_normalizado), \"\\n\")\n",
        "  cat(\"   param_normalizado length:\", length(param_normalizado), \"\\n\")\n",
        "}\n",
        "\n",
        "if(exists(\"dtrain_validate\")) {\n",
        "  cat(\"   dtrain_validate type:\", class(dtrain_validate), \"\\n\")\n",
        "}\n",
        "\n",
        "if(exists(\"dvalidate\")) {\n",
        "  cat(\"   dvalidate dimensions:\", dim(dvalidate), \"\\n\")\n",
        "}\n",
        "\n",
        "if(exists(\"campos_buenos\")) {\n",
        "  cat(\"   campos_buenos length:\", length(campos_buenos), \"\\n\")\n",
        "}\n",
        "\n",
        "cat(\"3. About to start loop...\\n\")\n",
        "for (seed_idx in seq_along(stability_seeds)) {\n",
        "  cat(\"Seed iteration:\", seed_idx, \"of\", length(stability_seeds), \"\\n\")\n",
        "  \n",
        "  param_test <- param_normalizado\n",
        "  param_test$seed <- stability_seeds[seed_idx]\n",
        "  cat(\"  Parameters prepared\\n\")\n",
        "  \n",
        "  # Check if training data is valid\n",
        "  cat(\"  Training data check...\\n\")\n",
        "  cat(\"    dtrain_validate dimensions:\", dim(dtrain_validate), \"\\n\")\n",
        "  \n",
        "  # Train the model - this is likely where it hangs\n",
        "  cat(\"  Starting model training...\\n\")\n",
        "  modelo_test <- lgb.train(data = dtrain_validate, param = param_test)\n",
        "  cat(\"  Model training completed\\n\")  # If you don't see this, training is hanging\n",
        "  \n",
        "  # If we get here, the rest should work\n",
        "  cat(\"  Making predictions...\\n\")\n",
        "  prediccion_test <- predict(modelo_test, \n",
        "    data.matrix(dvalidate[, campos_buenos, with = FALSE]))\n",
        "  \n",
        "  cat(\"  Creating results table...\\n\")\n",
        "  tb_test <- dvalidate[, list(numero_de_cliente, foto_mes)]\n",
        "  tb_test[, prob := prediccion_test]\n",
        "  \n",
        "  drealidad <- realidad_inicializar(dvalidate, PARAM)\n",
        "  setorder(tb_test, -prob)\n",
        "  \n",
        "  cat(\"\\n--- Seed:\", stability_seeds[seed_idx], \"---\\n\")\n",
        "  cat(sprintf(\"%-10s %-15s %-15s\\n\", \"Envios\", \"Threshold\", \"Total\"))\n",
        "  cat(strrep(\"-\", 40), \"\\n\")\n",
        "  \n",
        "  # Pre-allocate results for this seed\n",
        "  seed_results <- list()\n",
        "  \n",
        "  for (i in seq_along(PARAM$cortes)) {\n",
        "    envios <- PARAM$cortes[i]\n",
        "    tb_test[, Predicted := 0L]\n",
        "    tb_test[1:envios, Predicted := 1L]\n",
        "    \n",
        "    res <- realidad_evaluar(drealidad, tb_test)\n",
        "    prob_threshold <- tb_test[envios, prob]\n",
        "    \n",
        "    seed_results[[i]] <- data.table(\n",
        "      seed = stability_seeds[seed_idx],\n",
        "      envios = envios,\n",
        "      prob_threshold = prob_threshold,\n",
        "      gain_total = res$total\n",
        "    )\n",
        "    \n",
        "    cat(sprintf(\"%-10d %-15.6f %-15.0f\\n\",\n",
        "      envios, prob_threshold, res$total))\n",
        "  }\n",
        "  \n",
        "  # Combine results for this seed\n",
        "  stability_results <- rbindlist(list(stability_results, rbindlist(seed_results)))\n",
        "}\n",
        "\n",
        "# Optional: Clean up memory\n",
        "gc()"
      ]
    },
    {
      "cell_type": "markdown",
      "metadata": {},
      "source": [
        "## 11. Production (Final Prediction)"
      ]
    },
    {
      "cell_type": "code",
      "execution_count": null,
      "metadata": {
        "vscode": {
          "languageId": "r"
        }
      },
      "outputs": [],
      "source": [
        "# Train production model on ALL final training data\n",
        "cat(\"\\n=== TRAINING PRODUCTION MODEL ===\\n\")\n",
        "\n",
        "dfinal <- dataset[foto_mes %in% PARAM$train_final]\n",
        "\n",
        "cat(\"Production training dataset:\\n\")\n",
        "print(dfinal[, .N, by = clase_ternaria])\n",
        "\n",
        "dfinal_lgb <- lgb.Dataset(\n",
        "  data = data.matrix(dfinal[, campos_buenos, with = FALSE]),\n",
        "  label = dfinal[, clase01]\n",
        ")\n",
        "\n",
        "modelo_produccion <- lgb.train(data = dfinal_lgb, param = param_normalizado)\n",
        "cat(\"\\nProduction model trained successfully\\n\")"
      ]
    },
    {
      "cell_type": "code",
      "execution_count": null,
      "metadata": {
        "vscode": {
          "languageId": "r"
        }
      },
      "outputs": [],
      "source": [
        "# Predict on future data\n",
        "dpredict <- dataset[foto_mes %in% PARAM$future]\n",
        "\n",
        "cat(\"\\nFuture dataset for prediction:\\n\")\n",
        "cat(\"  Rows:\", nrow(dpredict), \"\\n\")\n",
        "cat(\"  Period:\", PARAM$future, \"\\n\")\n",
        "\n",
        "probs_future <- predict(modelo_produccion, \n",
        "  data.matrix(dpredict[, campos_buenos, with = FALSE]))\n",
        "\n",
        "cat(\"\\nPredictions generated\\n\")\n",
        "cat(\"  Mean probability:\", mean(probs_future), \"\\n\")\n",
        "cat(\"  Min probability:\", min(probs_future), \"\\n\")\n",
        "cat(\"  Max probability:\", max(probs_future), \"\\n\")"
      ]
    },
    {
      "cell_type": "code",
      "execution_count": null,
      "metadata": {
        "vscode": {
          "languageId": "r"
        }
      },
      "outputs": [],
      "source": [
        "# Create final prediction table\n",
        "tb_pred_final <- data.table(\n",
        "  numero_de_cliente = dpredict$numero_de_cliente,\n",
        "  prob = probs_future\n",
        ")\n",
        "\n",
        "setorder(tb_pred_final, -prob)\n",
        "\n",
        "# Apply optimal cutoff from validation\n",
        "ENVIOS_OPTIMO <- gain_results[which.max(gain_total), envios]\n",
        "\n",
        "tb_pred_final[, Predicted := 0L]\n",
        "tb_pred_final[1:ENVIOS_OPTIMO, Predicted := 1L]\n",
        "\n",
        "cat(\"\\n=== FINAL SUBMISSION ===\\n\")\n",
        "cat(\"Optimal number of submissions:\", ENVIOS_OPTIMO, \"\\n\")\n",
        "cat(\"Predicted BAJA+2:\", sum(tb_pred_final$Predicted), \"\\n\")\n",
        "cat(\"Percentage:\", round(100 * sum(tb_pred_final$Predicted) / nrow(tb_pred_final), 2), \"%\\n\")\n",
        "\n",
        "# Save final submission\n",
        "fwrite(tb_pred_final[, list(numero_de_cliente, Predicted)], \n",
        "  file = \"prediccion_final.csv\", sep = \",\")\n",
        "\n",
        "# Also save with probabilities for analysis\n",
        "fwrite(tb_pred_final, file = \"prediccion_final_with_probs.csv\", sep = \",\")\n",
        "\n",
        "cat(\"\\nFiles saved:\\n\")\n",
        "cat(\"  - prediccion_final.csv (for Kaggle submission)\\n\")\n",
        "cat(\"  - prediccion_final_with_probs.csv (for analysis)\\n\")"
      ]
    },
    {
      "cell_type": "markdown",
      "metadata": {},
      "source": [
        "## 12. Summary"
      ]
    },
    {
      "cell_type": "code",
      "execution_count": null,
      "metadata": {
        "vscode": {
          "languageId": "r"
        }
      },
      "outputs": [],
      "source": [
        "# Final summary\n",
        "cat(\"\\n\", strrep(\"=\", 70), \"\\n\")\n",
        "cat(\"EXPERIMENT SUMMARY\\n\")\n",
        "cat(strrep(\"=\", 70), \"\\n\\n\")\n",
        "\n",
        "cat(\"Configuration:\\n\")\n",
        "cat(\"  Experiment:\", PARAM$experimento, \"\\n\")\n",
        "cat(\"  Seed:\", PARAM$semilla_primigenia, \"\\n\")\n",
        "cat(\"  Training periods:\", paste(PARAM$train, collapse = \", \"), \"\\n\")\n",
        "cat(\"  Validation period:\", PARAM$validate, \"\\n\")\n",
        "cat(\"  Future period:\", PARAM$future, \"\\n\")\n",
        "cat(\"  Undersampling:\", PARAM$trainingstrategy$undersampling, \"\\n\")\n",
        "\n",
        "cat(\"\\nBayesian Optimization:\\n\")\n",
        "cat(\"  Iterations:\", PARAM$hyperparametertuning$iteraciones, \"\\n\")\n",
        "cat(\"  Best AUC:\", PARAM$out$lgbm$y, \"\\n\")\n",
        "\n",
        "cat(\"\\nValidation Results:\\n\")\n",
        "cat(\"  Optimal envios:\", optimal_row$envios, \"\\n\")\n",
        "cat(\"  Optimal threshold:\", round(optimal_row$prob_threshold, 6), \"\\n\")\n",
        "cat(\"  Expected total gain:\", optimal_row$gain_total, \"\\n\")\n",
        "cat(\"  Expected public gain:\", optimal_row$gain_public, \"\\n\")\n",
        "cat(\"  Expected private gain:\", optimal_row$gain_private, \"\\n\")\n",
        "\n",
        "cat(\"\\nFinal Prediction:\\n\")\n",
        "cat(\"  Total customers:\", nrow(tb_pred_final), \"\\n\")\n",
        "cat(\"  Predicted BAJA+2:\", sum(tb_pred_final$Predicted), \"\\n\")\n",
        "cat(\"  Submission file: prediccion_final.csv\\n\")\n",
        "\n",
        "cat(\"\\nOutput directory:\", getwd(), \"\\n\")\n",
        "cat(\"\\nCompleted:\", format(Sys.time(), \"%a %b %d %X %Y\"), \"\\n\")\n",
        "cat(strrep(\"=\", 70), \"\\n\")"
      ]
    }
  ],
  "metadata": {
    "kernelspec": {
      "display_name": "R",
      "language": "R",
      "name": "ir"
    },
    "language_info": {
      "codemirror_mode": "r",
      "file_extension": ".r",
      "mimetype": "text/x-r-source",
      "name": "R",
      "pygments_lexer": "r",
      "version": "4.5.1"
    }
  },
  "nbformat": 4,
  "nbformat_minor": 0
}
