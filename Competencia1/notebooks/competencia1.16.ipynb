{
  "cells": [
    {
      "cell_type": "markdown",
      "metadata": {},
      "source": [
        "# Competencia 1 Kaggle"
      ]
    },
    {
      "cell_type": "markdown",
      "metadata": {},
      "source": [
        "## 1. Environment Setup"
      ]
    },
    {
      "cell_type": "code",
      "execution_count": null,
      "metadata": {
        "vscode": {
          "languageId": "r"
        }
      },
      "outputs": [],
      "source": [
        "# Clear environment\n",
        "rm(list = ls(all.names = TRUE))\n",
        "gc(full = TRUE, verbose = FALSE)\n",
        "\n",
        "# Load required libraries\n",
        "require(\"data.table\")\n",
        "require(\"parallel\")\n",
        "require(\"R.utils\")\n",
        "require(\"primes\")\n",
        "require(\"utils\")\n",
        "require(\"rlist\")\n",
        "require(\"yaml\")\n",
        "require(\"lightgbm\")\n",
        "require(\"DiceKriging\")\n",
        "require(\"mlrMBO\")\n",
        "require(\"ggplot2\")\n",
        "\n",
        "cat(\"Libraries loaded successfully\\n\")\n",
        "cat(\"Timestamp:\", format(Sys.time(), \"%a %b %d %X %Y\"), \"\\n\")"
      ]
    },
    {
      "cell_type": "markdown",
      "metadata": {},
      "source": [
        "## 2. Configuration"
      ]
    },
    {
      "cell_type": "code",
      "execution_count": null,
      "metadata": {
        "vscode": {
          "languageId": "r"
        }
      },
      "outputs": [],
      "source": [
        "# Environment detection and paths\n",
        "IS_COLAB <- dir.exists(\"/content/buckets\")\n",
        "\n",
        "if (IS_COLAB) {\n",
        "  # Colab setup - mount drive first\n",
        "  # from google.colab import drive\n",
        "  # drive.mount('/content/.drive')\n",
        "  \n",
        "  # Create directory structure\n",
        "  system(\"mkdir -p '/content/.drive/My Drive/dmeyf'\")\n",
        "  system(\"mkdir -p /content/buckets\")\n",
        "  system(\"ln -s '/content/.drive/My Drive/dmeyf' /content/buckets/b1\")\n",
        "  system(\"mkdir -p /content/buckets/b1/exp\")\n",
        "  system(\"mkdir -p /content/buckets/b1/datasets\")\n",
        "  system(\"mkdir -p /content/datasets\")\n",
        "  \n",
        "  # Download dataset if needed\n",
        "  if (!file.exists(\"/content/buckets/b1/datasets/competencia_01_crudo.csv\")) {\n",
        "    download.file(\n",
        "      \"https://storage.googleapis.com/open-courses/dmeyf2025-e4a2/competencia_01_crudo.csv\",\n",
        "      \"/content/buckets/b1/datasets/competencia_01_crudo.csv\"\n",
        "    )\n",
        "  }\n",
        "  \n",
        "  BASE_PATH <- \"/content/buckets/b1\"\n",
        "  DATA_PATH <- \"/content/datasets/competencia_01_crudo.csv\"\n",
        "} else {\n",
        "  # Local setup\n",
        "  setwd('/Users/manumoreira/Repos/dmeyf2025/Competencia1/')\n",
        "  BASE_PATH <- getwd()\n",
        "  DATA_PATH <- \"./data/competencia_01_crudo.csv\"\n",
        "}\n",
        "\n",
        "cat(\"Environment:\", ifelse(IS_COLAB, \"Colab\", \"Local\"), \"\\n\")\n",
        "cat(\"Base path:\", BASE_PATH, \"\\n\")\n",
        "cat(\"Data path:\", DATA_PATH, \"\\n\")"
      ]
    },
    {
      "cell_type": "code",
      "execution_count": null,
      "metadata": {
        "vscode": {
          "languageId": "r"
        }
      },
      "outputs": [],
      "source": [
        "# JupyterLAB\n",
        "BASE_PATH <- getwd()\n",
        "DATA_PATH <- \"/home/manuelmoreira_data/datasets/competencia_01_crudo.csv\"\n",
        "getwd()"
      ]
    },
    {
      "cell_type": "code",
      "execution_count": null,
      "metadata": {
        "vscode": {
          "languageId": "r"
        }
      },
      "outputs": [],
      "source": [
        "# Experiment parameters\n",
        "PARAM <- list()\n",
        "PARAM$experimento <- 15\n",
        "PARAM$semilla_primigenia <- 450343\n",
        "\n",
        "# Training periods\n",
        "PARAM$train <- c(202101, 202102, 202103)\n",
        "PARAM$train_validate <- c(202101, 202102, 202103)\n",
        "PARAM$validate <- c(202104)\n",
        "PARAM$train_final <- c(202101, 202102, 202103, 202104)\n",
        "PARAM$future <- c(202106)\n",
        "\n",
        "# Kaggle parameters\n",
        "PARAM$semilla_kaggle <- 314159\n",
        "PARAM$cortes <- seq(6000, 19000, by = 500)\n",
        "\n",
        "# Training strategy\n",
        "PARAM$trainingstrategy$undersampling <- 0.5\n",
        "\n",
        "# Hyperparameter tuning\n",
        "PARAM$hyperparametertuning$xval_folds <- 5\n",
        "PARAM$hyperparametertuning$iteraciones <- 60\n",
        "\n",
        "cat(\"Parameters configured:\\n\")\n",
        "cat(\"  Experiment:\", PARAM$experimento, \"\\n\")\n",
        "cat(\"  Seed:\", PARAM$semilla_primigenia, \"\\n\")\n",
        "cat(\"  Training periods:\", paste(PARAM$train, collapse = \", \"), \"\\n\")\n",
        "cat(\"  Validation period:\", PARAM$validate, \"\\n\")\n",
        "cat(\"  Future period:\", PARAM$future, \"\\n\")"
      ]
    },
    {
      "cell_type": "code",
      "execution_count": null,
      "metadata": {
        "vscode": {
          "languageId": "r"
        }
      },
      "outputs": [],
      "source": [
        "# LightGBM fixed parameters\n",
        "PARAM$lgbm$param_fijos <- list(\n",
        "  boosting = \"gbdt\",\n",
        "  objective = \"binary\",\n",
        "  metric = \"auc\",\n",
        "  first_metric_only = FALSE,\n",
        "  boost_from_average = TRUE,\n",
        "  feature_pre_filter = FALSE,\n",
        "  force_row_wise = TRUE,\n",
        "  verbosity = -100,\n",
        "  seed = PARAM$semilla_primigenia,\n",
        "  max_depth = -1L,\n",
        "  min_gain_to_split = 0,\n",
        "  min_sum_hessian_in_leaf = 0.001,\n",
        "  lambda_l1 = 0.0,\n",
        "  lambda_l2 = 0.0,\n",
        "  max_bin = 31L,\n",
        "  bagging_fraction = 1.0,\n",
        "  pos_bagging_fraction = 1.0,\n",
        "  neg_bagging_fraction = 1.0,\n",
        "  is_unbalance = FALSE,\n",
        "  scale_pos_weight = 1.0,\n",
        "  drop_rate = 0.1,\n",
        "  max_drop = 50,\n",
        "  skip_drop = 0.5,\n",
        "  extra_trees = FALSE,\n",
        "  num_iterations = 1200,\n",
        "  learning_rate = 0.02,\n",
        "  feature_fraction = 0.5,\n",
        "  num_leaves = 750,\n",
        "  min_data_in_leaf = 3\n",
        ")\n",
        "\n",
        "cat(\"LightGBM fixed parameters configured\\n\")"
      ]
    },
    {
      "cell_type": "code",
      "execution_count": null,
      "metadata": {
        "vscode": {
          "languageId": "r"
        }
      },
      "outputs": [],
      "source": [
        "# Hyperparameter search space\n",
        "PARAM$hypeparametertuning$hs <- makeParamSet(\n",
        "  makeIntegerParam(\"num_iterations\", lower = 8L, upper = 2048L),\n",
        "  makeNumericParam(\"learning_rate\", lower = 0.01, upper = 0.3),\n",
        "  makeNumericParam(\"feature_fraction\", lower = 0.1, upper = 1.0),\n",
        "  makeIntegerParam(\"num_leaves\", lower = 8L, upper = 2048L),\n",
        "  makeIntegerParam(\"lambda_1\", lower = 0, upper = 15),\n",
        "  makeNumericParam(\"min_gain_to_split\", lower = 0.1, upper = 1.0),\n",
        "  makeIntegerParam(\"max_depth\", lower = 1, upper = 15),\n",
        "  makeIntegerParam(\"bagging_freq\", lower = 1, upper = 10),\n",
        "  makeIntegerParam(\"min_data_in_leaf\", lower = 1, upper = 8000),\n",
        "  makeNumericParam(\"bagging_fraction\", lower = 0.1, upper = 1.0)\n",
        ")\n",
        "\n",
        "cat(\"Hyperparameter search space defined\\n\")\n",
        "cat(\"  Number of hyperparameters to tune:\", length(PARAM$hypeparametertuning$hs$pars), \"\\n\")"
      ]
    },
    {
      "cell_type": "markdown",
      "metadata": {},
      "source": [
        "## 3. Data Loading and Feature Engineering"
      ]
    },
    {
      "cell_type": "code",
      "execution_count": null,
      "metadata": {
        "vscode": {
          "languageId": "r"
        }
      },
      "outputs": [],
      "source": [
        "# Load dataset\n",
        "dataset <- fread(DATA_PATH, stringsAsFactors = TRUE)\n",
        "\n",
        "cat(\"Dataset loaded:\\n\")\n",
        "cat(\"  Rows:\", nrow(dataset), \"\\n\")\n",
        "cat(\"  Columns:\", ncol(dataset), \"\\n\")\n",
        "cat(\"  Memory:\", format(object.size(dataset), units = \"MB\"), \"\\n\")"
      ]
    },
    {
      "cell_type": "code",
      "execution_count": null,
      "metadata": {
        "vscode": {
          "languageId": "r"
        }
      },
      "outputs": [],
      "source": [
        "# Relacion de dependencia\n",
        "if(\"relacion_dependencia\" %in% names(dataset)) {\n",
        "  dataset[, relacion_dependencia := NULL]\n",
        "}\n",
        "\n",
        "# Initialize with 0 for all\n",
        "dataset[, relacion_dependencia := 0]\n",
        "\n",
        "# Recreate wide format for May-June comparison\n",
        "wide_dt <- dcast(dataset, numero_de_cliente ~ foto_mes, value.var = \"mpayroll\")\n",
        "\n",
        "# Identify payroll employees based on May-June pattern\n",
        "may_june_employees <- wide_dt[`202106` >= 1.4 * `202105` & \n",
        "                              `202106` <= 1.8 * `202105`, \n",
        "                              .(numero_de_cliente)]\n",
        "\n",
        "# Flag them ONLY in May and June\n",
        "dataset[numero_de_cliente %in% may_june_employees$numero_de_cliente & \n",
        "        foto_mes %in% c(202105, 202106),\n",
        "        relacion_dependencia := 1]"
      ]
    },
    {
      "cell_type": "code",
      "execution_count": null,
      "metadata": {
        "vscode": {
          "languageId": "r"
        }
      },
      "outputs": [],
      "source": [
        "# Save original mpayroll before any adjustments\n",
        "dataset[, mpayroll_original := mpayroll]\n",
        "\n",
        "# Most straightforward version\n",
        "june_adjust <- wide_dt[`202106` >= 1.4 * `202105` & `202106` <= 1.8 * `202105`,\n",
        "                      .(numero_de_cliente, adjust_factor = (`202106` / `202105`) - 0.1)]\n",
        "\n",
        "# Apply only to June\n",
        "dataset[foto_mes == 202106 & numero_de_cliente %in% june_adjust$numero_de_cliente,\n",
        "        mpayroll := mpayroll / june_adjust$adjust_factor[match(numero_de_cliente, june_adjust$numero_de_cliente)]]\n",
        "                \n",
        "# Now check which months were actually modified\n",
        "adjustment_check <- dataset[, .(\n",
        "  total_rows = .N,\n",
        "  modified_rows = sum(mpayroll != mpayroll_original, na.rm = TRUE),\n",
        "  modification_rate = mean(mpayroll != mpayroll_original, na.rm = TRUE)\n",
        "), by = foto_mes]\n",
        "\n",
        "print(adjustment_check)"
      ]
    },
    {
      "cell_type": "code",
      "execution_count": null,
      "metadata": {
        "vscode": {
          "languageId": "r"
        }
      },
      "outputs": [],
      "source": [
        "dataset[, c(\"mpayroll_original\", \"relacion_dependencia\") := NULL]"
      ]
    },
    {
      "cell_type": "code",
      "execution_count": null,
      "metadata": {
        "vscode": {
          "languageId": "r"
        }
      },
      "outputs": [],
      "source": [
        "# Create lag and delta features\n",
        "exclude_fields <- c(\"numero_de_cliente\", \"foto_mes\", \"clase_ternaria\")\n",
        "fields_to_transform <- setdiff(names(dataset), exclude_fields)\n",
        "\n",
        "cat(\"Creating lag and delta features...\\n\")\n",
        "cat(\"  Fields to transform:\", length(fields_to_transform), \"\\n\")\n",
        "\n",
        "setorder(dataset, numero_de_cliente, foto_mes)\n",
        "\n",
        "# Lag features\n",
        "dataset[, paste0(fields_to_transform, \"_lag1\") := \n",
        "  lapply(.SD, shift, n = 1), \n",
        "  by = numero_de_cliente, \n",
        "  .SDcols = fields_to_transform]\n",
        "\n",
        "cat(\"  Lag1 features created\\n\")\n",
        "\n",
        "# Delta features\n",
        "dataset[, paste0(fields_to_transform, \"_delta1\") := \n",
        "  lapply(fields_to_transform, function(f) get(f) - get(paste0(f, \"_lag1\")))]\n",
        "\n",
        "# Lag features\n",
        "dataset[, paste0(fields_to_transform, \"_lag2\") := \n",
        "  lapply(.SD, shift, n = 2), \n",
        "  by = numero_de_cliente, \n",
        "  .SDcols = fields_to_transform]\n",
        "\n",
        "cat(\"  Lag2 features created\\n\")\n",
        "\n",
        "# Delta features\n",
        "dataset[, paste0(fields_to_transform, \"_delta2\") := \n",
        "  lapply(fields_to_transform, function(f) get(f) - get(paste0(f, \"_lag2\")))]\n",
        "\n",
        "cat(\"  Delta features created\\n\")\n",
        "cat(\"  Total columns now:\", ncol(dataset), \"\\n\")"
      ]
    },
    {
      "cell_type": "code",
      "execution_count": null,
      "metadata": {
        "vscode": {
          "languageId": "r"
        }
      },
      "outputs": [],
      "source": [
        "generate_feature_variations <- function(base_fields, include_original = TRUE, \n",
        "                                       include_lag = TRUE, include_delta = TRUE) {\n",
        "  \n",
        "  variations <- character(0)\n",
        "  \n",
        "  if(include_original) {\n",
        "    variations <- c(variations, base_fields)\n",
        "  }\n",
        "  \n",
        "  if(include_lag) {\n",
        "    variations <- c(variations, paste0(base_fields, \"_lag1\"))\n",
        "    variations <- c(variations, paste0(base_fields, \"_lag2\"))\n",
        "  }\n",
        "  \n",
        "  if(include_delta) {\n",
        "    variations <- c(variations, paste0(base_fields, \"_delta1\"))\n",
        "    variations <- c(variations, paste0(base_fields, \"_deltaw\"))\n",
        "  }\n",
        "  \n",
        "  return(variations)\n",
        "}"
      ]
    },
    {
      "cell_type": "code",
      "execution_count": null,
      "metadata": {
        "vscode": {
          "languageId": "r"
        }
      },
      "outputs": [],
      "source": [
        "# Function to create separate rankings by month (no data leakage)\n",
        "rank_separate_by_month <- function(dt, columns, month_col = \"foto_mes\") {\n",
        "  \n",
        "  new_cols <- paste0(columns, \"_ranked\")\n",
        "  \n",
        "  for(i in seq_along(columns)) {\n",
        "    col <- columns[i]\n",
        "    new_col <- new_cols[i]\n",
        "    \n",
        "    # Initialize with NAs\n",
        "    dt[, (new_col) := NA_real_]\n",
        "    \n",
        "    # Rank within each month independently\n",
        "\n",
        "    dt[, (new_col) := {\n",
        "      col_vals <- get(col)\n",
        "      \n",
        "      # If all NA, just return NA vector (no return() statement!)\n",
        "      if(all(is.na(col_vals))) {\n",
        "        rep(NA_real_, length(col_vals))\n",
        "      } else {\n",
        "        # Initialize result vector\n",
        "        result <- rep(NA_real_, length(col_vals))\n",
        "        \n",
        "        # Get indices for each category\n",
        "        neg_idx <- which(!is.na(col_vals) & col_vals < 0)\n",
        "        pos_idx <- which(!is.na(col_vals) & col_vals > 0)\n",
        "        zero_idx <- which(!is.na(col_vals) & col_vals == 0)\n",
        "        \n",
        "        # Rank negative values\n",
        "        if(length(neg_idx) > 0) {\n",
        "          neg_vals <- col_vals[neg_idx]\n",
        "          result[neg_idx] <- -frank(-neg_vals, ties.method = \"average\")\n",
        "        }\n",
        "        \n",
        "        # Rank positive values\n",
        "        if(length(pos_idx) > 0) {\n",
        "          pos_vals <- col_vals[pos_idx]\n",
        "          result[pos_idx] <- frank(pos_vals, ties.method = \"average\")\n",
        "        }\n",
        "        \n",
        "        # Zero values get rank 0\n",
        "        if(length(zero_idx) > 0) {\n",
        "          result[zero_idx] <- 0\n",
        "        }\n",
        "        \n",
        "        result  # Last expression is returned automatically\n",
        "      }\n",
        "    }, by = month_col]  # Group by month_col directly (not get())\n",
        "  }\n",
        "  return(dt)\n",
        "}\n",
        "\n",
        "#Usage example:\n",
        "monetary_fields <- c(\"mrentabilidad\", \"mrentabilidad_annual\", \"mcomisiones\", \"mactivos_margen\", \"mpasivos_margen\", \n",
        "                \"mcuenta_corriente_adicional\", \"mcuenta_corriente\", \"mcaja_ahorro\", \"mcaja_ahorro_adicional\", \n",
        "                \"mcaja_ahorro_dolares\", \"mcuentas_saldo\", \"mautoservicio\", \"mtarjeta_visa_consumo\", \"mtarjeta_master_consumo\", \n",
        "                \"mprestamos_personales\", \"mprestamos_prendarios\", \"mprestamos_hipotecarios\", \"mplazo_fijo_dolares\", \n",
        "                \"mplazo_fijo_pesos\", \"minversion1_pesos\", \"minversion1_dolares\", \"minversion2\", \"mpayroll\", \"mpayroll2\", \n",
        "                \"mcuenta_debitos_automaticos\", \"mttarjeta_visa_debitos_automaticos\", \"mttarjeta_master_debitos_automaticos\", \n",
        "                \"mpagodeservicios\", \"mpagomiscuentas\", \"mcajeros_propios_descuentos\", \"mtarjeta_visa_descuentos\", \n",
        "                \"mtarjeta_master_descuentos\", \"mcomisiones_mantenimiento\", \"mcomisiones_otras\", \"mforex_buy\", \"mforex_sell\", \n",
        "                \"mtransferencias_recibidas\", \"mtransferencias_emitidas\", \"mextraccion_autoservicio\", \"mcheques_depositados\", \n",
        "                \"mcheques_emitidos\", \"mcheques_depositados_rechazados\", \"mcheques_emitidos_rechazados\", \"matm\", \"matm_other\", \n",
        "                \"Master_mfinanciacion_limite\", \"Master_msaldototal\", \"Master_msaldopesos\", \"Master_msaldodolares\", \n",
        "                \"Master_mconsumospesos\", \"Master_mconsumosdolares\", \"Master_mlimitecompra\", \"Master_madelantopesos\", \n",
        "                \"Master_madelantodolares\", \"Master_mpagado\", \"Master_mpagospesos\", \"Master_mpagosdolares\", \n",
        "                \"Master_mconsumototal\", \"Master_mpagominimo\", \"Visa_mfinanciacion_limite\", \"Visa_msaldototal\", \n",
        "                \"Visa_msaldopesos\", \"Visa_msaldodolares\", \"Visa_mconsumospesos\", \"Visa_mconsumosdolares\", \n",
        "                \"Visa_mlimitecompra\", \"Visa_madelantopesos\", \"Visa_madelantodolares\", \"Visa_mpagado\", \"Visa_mpagospesos\", \n",
        "                \"Visa_mpagosdolares\", \"Visa_mconsumototal\", \"Visa_mpagominimo\", \"cliente_edad\", \"cliente_antiguedad\")\n",
        "\n",
        "cols_to_rank <- generate_feature_variations(monetary_fields, \n",
        "                                            include_original = TRUE,\n",
        "                                            include_lag = TRUE,\n",
        "                                            include_delta = TRUE)\n",
        "\n",
        "cols_to_rank <- cols_to_rank[cols_to_rank %in% names(dataset)]\n",
        "\n",
        "dataset <- rank_separate_by_month(\n",
        "   dataset, cols_to_rank, month_col = \"foto_mes\"\n",
        " )"
      ]
    },
    {
      "cell_type": "code",
      "execution_count": null,
      "metadata": {
        "vscode": {
          "languageId": "r"
        }
      },
      "outputs": [],
      "source": [
        "# Function to create comparison summary\n",
        "create_compact_monthly_summary <- function(dt, original_cols, month_col = \"foto_mes\") {\n",
        "  ranked_cols <- paste0(original_cols, \"_ranked_safe\")\n",
        "  \n",
        "  summary_list <- lapply(seq_along(original_cols), function(i) {\n",
        "    orig <- original_cols[i]\n",
        "    rank <- ranked_cols[i]\n",
        "    \n",
        "    month_summary <- dt[!is.na(get(month_col)), .(\n",
        "      # Original stats\n",
        "      Orig_Median = median(get(orig), na.rm = TRUE),\n",
        "      Orig_IQR = IQR(get(orig), na.rm = TRUE),\n",
        "      Orig_Min = min(get(orig), na.rm = TRUE),\n",
        "      Orig_Max = max(get(orig), na.rm = TRUE),\n",
        "      \n",
        "      # Ranked stats\n",
        "      Rank_Median = median(get(rank), na.rm = TRUE),\n",
        "      Rank_IQR = IQR(get(rank), na.rm = TRUE),\n",
        "      Rank_Min = min(get(rank), na.rm = TRUE),\n",
        "      Rank_Max = max(get(rank), na.rm = TRUE),\n",
        "      \n",
        "      # Counts\n",
        "      Count = .N,\n",
        "      Neg_Count_Orig = sum(get(orig) < 0, na.rm = TRUE),\n",
        "      Zero_Count_Orig = sum(get(orig) == 0, na.rm = TRUE),\n",
        "      Pos_Count_Orig = sum(get(orig) > 0, na.rm = TRUE),\n",
        "      Neg_Count_Rank = sum(get(rank) < 0, na.rm = TRUE),\n",
        "      Zero_Count_Rank = sum(get(rank) == 0, na.rm = TRUE),\n",
        "      Pos_Count_Rank = sum(get(rank) > 0, na.rm = TRUE),\n",
        "      NA_Count_Orig = sum(is.na(get(orig))),\n",
        "      NA_Count_Rank = sum(is.na(get(rank)))\n",
        "    ), by = month_col]\n",
        "    \n",
        "    # Add column name\n",
        "    month_summary[, Column := orig]\n",
        "    setcolorder(month_summary, c(\"Column\", month_col, names(month_summary)[!names(month_summary) %in% c(\"Column\", month_col)]))\n",
        "    \n",
        "    return(month_summary)\n",
        "  })\n",
        "  \n",
        "  return(rbindlist(summary_list))\n",
        "}\n",
        "\n",
        "# Usage\n",
        "original_cols <- c(\"mrentabilidad\", \"mrentabilidad_annual\", \"mcomisiones\", \"mactivos_margen\", \"mpasivos_margen\", \n",
        "                \"mcuenta_corriente_adicional\", \"mcuenta_corriente\", \"mcaja_ahorro\", \"mcaja_ahorro_adicional\", \n",
        "                \"mcaja_ahorro_dolares\", \"mcuentas_saldo\", \"mautoservicio\", \"mtarjeta_visa_consumo\", \"mtarjeta_master_consumo\", \n",
        "                \"mprestamos_personales\", \"mprestamos_prendarios\", \"mprestamos_hipotecarios\", \"mplazo_fijo_dolares\", \n",
        "                \"mplazo_fijo_pesos\", \"minversion1_pesos\", \"minversion1_dolares\", \"minversion2\", \"mpayroll\", \"mpayroll2\", \n",
        "                \"mcuenta_debitos_automaticos\", \"mttarjeta_visa_debitos_automaticos\", \"mttarjeta_master_debitos_automaticos\", \n",
        "                \"mpagodeservicios\", \"mpagomiscuentas\", \"mcajeros_propios_descuentos\", \"mtarjeta_visa_descuentos\", \n",
        "                \"mtarjeta_master_descuentos\", \"mcomisiones_mantenimiento\", \"mcomisiones_otras\", \"mforex_buy\", \"mforex_sell\", \n",
        "                \"mtransferencias_recibidas\", \"mtransferencias_emitidas\", \"mextraccion_autoservicio\", \"mcheques_depositados\", \n",
        "                \"mcheques_emitidos\", \"mcheques_depositados_rechazados\", \"mcheques_emitidos_rechazados\", \"matm\", \"matm_other\", \n",
        "                \"Master_mfinanciacion_limite\", \"Master_msaldototal\", \"Master_msaldopesos\", \"Master_msaldodolares\", \n",
        "                \"Master_mconsumospesos\", \"Master_mconsumosdolares\", \"Master_mlimitecompra\", \"Master_madelantopesos\", \n",
        "                \"Master_madelantodolares\", \"Master_mpagado\", \"Master_mpagospesos\", \"Master_mpagosdolares\", \n",
        "                \"Master_mconsumototal\", \"Master_mpagominimo\", \"Visa_mfinanciacion_limite\", \"Visa_msaldototal\", \n",
        "                \"Visa_msaldopesos\", \"Visa_msaldodolares\", \"Visa_mconsumospesos\", \"Visa_mconsumosdolares\", \n",
        "                \"Visa_mlimitecompra\", \"Visa_madelantopesos\", \"Visa_madelantodolares\", \"Visa_mpagado\", \"Visa_mpagospesos\", \n",
        "                \"Visa_mpagosdolares\", \"Visa_mconsumototal\", \"Visa_mpagominimo\",\"cliente_edad\", \"cliente_antiguedad\")\n",
        "rank_summary <- create_compact_monthly_summary(dataset, original_cols)\n",
        "fwrite(rank_summary, file = \"rank_summary.csv\", sep = \",\")\n",
        "print(rank_summary)"
      ]
    },
    {
      "cell_type": "code",
      "execution_count": null,
      "metadata": {
        "vscode": {
          "languageId": "r"
        }
      },
      "outputs": [],
      "source": [
        "# Function to delete unranked versions (keeping only _ranked)\n",
        "delete_unranked_versions <- function(dt, base_fields) {\n",
        "  \n",
        "  # Generate all unranked versions (original + lag + delta)\n",
        "  cols_to_delete <- generate_feature_variations(base_fields, \n",
        "                                                 include_original = TRUE, \n",
        "                                                 include_lag = TRUE, \n",
        "                                                 include_delta = TRUE)\n",
        "  \n",
        "  # Only delete columns that actually exist in the dataset\n",
        "  cols_to_delete <- cols_to_delete[cols_to_delete %in% names(dt)]\n",
        "  \n",
        "  # Count by type for reporting\n",
        "  n_original <- sum(base_fields %in% names(dt))\n",
        "  n_lag1 <- sum(paste0(base_fields, \"_lag1\") %in% names(dt))\n",
        "  n_delta1 <- sum(paste0(base_fields, \"_delta1\") %in% names(dt))\n",
        "  n_lag2 <- sum(paste0(base_fields, \"_lag2\") %in% names(dt))\n",
        "  n_delta2 <- sum(paste0(base_fields, \"_delta2\") %in% names(dt))\n",
        "  \n",
        "  # Report what we're deleting\n",
        "  cat(\"Deleting unranked versions of monetary variables...\\n\")\n",
        "  cat(\"  Original fields to delete:\", n_original, \"\\n\")\n",
        "  cat(\"  Lag1 fields to delete:\", n_lag1, \"\\n\")\n",
        "  cat(\"  Lag2 fields to delete:\", n_lag2, \"\\n\")\n",
        "  cat(\"  Delta1 fields to delete:\", n_delta1, \"\\n\")\n",
        "  cat(\"  Delta2 fields to delete:\", n_delta2, \"\\n\")\n",
        "  cat(\"  Total columns to delete:\", length(cols_to_delete), \"\\n\")\n",
        "  \n",
        "  # Delete them\n",
        "  if(length(cols_to_delete) > 0) {\n",
        "    dt[, (cols_to_delete) := NULL]\n",
        "    cat(\"  ✓ Deleted successfully!\\n\")\n",
        "  } else {\n",
        "    cat(\"  ⚠ No columns to delete (already cleaned?)\\n\")\n",
        "  }\n",
        "  \n",
        "  # Verify ranked versions exist\n",
        "  ranked_versions <- paste0(base_fields, \"_ranked\")\n",
        "  n_ranked_existing <- sum(ranked_versions %in% names(dt))\n",
        "  cat(\"  ✓ Ranked versions kept:\", n_ranked_existing, \"of\", length(base_fields), \"\\n\")\n",
        "  \n",
        "  cat(\"  Total columns remaining:\", ncol(dt), \"\\n\")\n",
        "  \n",
        "  return(dt)\n",
        "}\n",
        "\n",
        "# Usage with your list:\n",
        "monetary_fields <- c(\n",
        "  \"mrentabilidad\", \"mrentabilidad_annual\", \"mcomisiones\", \"mactivos_margen\", \"mpasivos_margen\", \n",
        "  \"mcuenta_corriente_adicional\", \"mcuenta_corriente\", \"mcaja_ahorro\", \"mcaja_ahorro_adicional\", \n",
        "  \"mcaja_ahorro_dolares\", \"mcuentas_saldo\", \"mautoservicio\", \"mtarjeta_visa_consumo\", \"mtarjeta_master_consumo\", \n",
        "  \"mprestamos_personales\", \"mprestamos_prendarios\", \"mprestamos_hipotecarios\", \"mplazo_fijo_dolares\", \n",
        "  \"mplazo_fijo_pesos\", \"minversion1_pesos\", \"minversion1_dolares\", \"minversion2\", \"mpayroll\", \"mpayroll2\", \n",
        "  \"mcuenta_debitos_automaticos\", \"mttarjeta_visa_debitos_automaticos\", \"mttarjeta_master_debitos_automaticos\", \n",
        "  \"mpagodeservicios\", \"mpagomiscuentas\", \"mcajeros_propios_descuentos\", \"mtarjeta_visa_descuentos\", \n",
        "  \"mtarjeta_master_descuentos\", \"mcomisiones_mantenimiento\", \"mcomisiones_otras\", \"mforex_buy\", \"mforex_sell\", \n",
        "  \"mtransferencias_recibidas\", \"mtransferencias_emitidas\", \"mextraccion_autoservicio\", \"mcheques_depositados\", \n",
        "  \"mcheques_emitidos\", \"mcheques_depositados_rechazados\", \"mcheques_emitidos_rechazados\", \"matm\", \"matm_other\", \n",
        "  \"Master_mfinanciacion_limite\", \"Master_msaldototal\", \"Master_msaldopesos\", \"Master_msaldodolares\", \n",
        "  \"Master_mconsumospesos\", \"Master_mconsumosdolares\", \"Master_mlimitecompra\", \"Master_madelantopesos\", \n",
        "  \"Master_madelantodolares\", \"Master_mpagado\", \"Master_mpagospesos\", \"Master_mpagosdolares\", \n",
        "  \"Master_mconsumototal\", \"Master_mpagominimo\", \"Visa_mfinanciacion_limite\", \"Visa_msaldototal\", \n",
        "  \"Visa_msaldopesos\", \"Visa_msaldodolares\", \"Visa_mconsumospesos\", \"Visa_mconsumosdolares\", \n",
        "  \"Visa_mlimitecompra\", \"Visa_madelantopesos\", \"Visa_madelantodolares\", \"Visa_mpagado\", \"Visa_mpagospesos\", \n",
        "  \"Visa_mpagosdolares\", \"Visa_mconsumototal\", \"Visa_mpagominimo\",\"cliente_edad\", \"cliente_antiguedad\"\n",
        ")\n",
        "\n",
        "\n",
        "# Delete all unranked versions\n",
        "dataset <- delete_unranked_versions(dataset, monetary_fields)\n"
      ]
    },
    {
      "cell_type": "markdown",
      "metadata": {},
      "source": [
        "## 4. Target Variable Creation (clase_ternaria)"
      ]
    },
    {
      "cell_type": "code",
      "execution_count": null,
      "metadata": {
        "vscode": {
          "languageId": "r"
        }
      },
      "outputs": [],
      "source": [
        "dsimple <- dataset[, list(\n",
        "    \"pos\" = .I,\n",
        "    numero_de_cliente,\n",
        "    periodo0 = as.integer(foto_mes/100)*12 +  foto_mes%%100 ) ]\n",
        "\n",
        "setorder( dsimple, numero_de_cliente, periodo0 )\n",
        "\n",
        "periodo_ultimo <- dsimple[, max(periodo0) ]\n",
        "periodo_anteultimo <- periodo_ultimo - 1\n",
        "\n",
        "dsimple[, c(\"periodo1\", \"periodo2\") :=\n",
        "    shift(periodo0, n=1:2, fill=NA, type=\"lead\"),  numero_de_cliente ]\n",
        "\n",
        "dsimple[ periodo0 < periodo_anteultimo, clase_ternaria := \"CONTINUA\" ]\n",
        "\n",
        "dsimple[ periodo0 < periodo_ultimo &\n",
        "    ( is.na(periodo1) | periodo0 + 1 < periodo1 ),\n",
        "    clase_ternaria := \"BAJA+1\" ]\n",
        "\n",
        "\n",
        "dsimple[ periodo0 < periodo_anteultimo & (periodo0+1 == periodo1 )\n",
        "    & ( is.na(periodo2) | periodo0 + 2 < periodo2 ),\n",
        "    clase_ternaria := \"BAJA+2\" ]\n",
        "\n",
        "setorder( dsimple, pos )\n",
        "dataset[, clase_ternaria := dsimple$clase_ternaria ]\n",
        "\n",
        "fwrite( dataset,\n",
        "    file =  \"/Users/manumoreira/Repos/dmeyf2025/Competencia1/data/competencia_01.8.csv.gz\",\n",
        "    \n",
        "    sep = \",\"\n",
        ")"
      ]
    },
    {
      "cell_type": "code",
      "execution_count": null,
      "metadata": {
        "vscode": {
          "languageId": "r"
        }
      },
      "outputs": [],
      "source": [
        "setorder( dataset, foto_mes, clase_ternaria, numero_de_cliente)\n",
        "dataset[, .N, list(foto_mes, clase_ternaria)]"
      ]
    },
    {
      "cell_type": "markdown",
      "metadata": {},
      "source": [
        "## 5. Helper Functions"
      ]
    },
    {
      "cell_type": "code",
      "execution_count": null,
      "metadata": {
        "vscode": {
          "languageId": "r"
        }
      },
      "outputs": [],
      "source": [
        "# Stratified partitioning\n",
        "particionar <- function(data, division, agrupa = \"\", campo = \"fold\", start = 1, seed = NA) {\n",
        "  if (!is.na(seed)) set.seed(seed, \"L'Ecuyer-CMRG\")\n",
        "  \n",
        "  bloque <- unlist(mapply(\n",
        "    function(x, y) rep(y, x), \n",
        "    division, \n",
        "    seq(from = start, length.out = length(division))\n",
        "  ))\n",
        "  \n",
        "  data[, (campo) := sample(rep(bloque, ceiling(.N / length(bloque))))[1:.N], by = agrupa]\n",
        "}\n",
        "\n",
        "# Initialize reality dataset for gain evaluation\n",
        "realidad_inicializar <- function(pfuture, pparam) {\n",
        "  drealidad <- pfuture[, list(numero_de_cliente, foto_mes, clase_ternaria)]\n",
        "  particionar(drealidad, division = c(3, 7), agrupa = \"clase_ternaria\", \n",
        "              seed = PARAM$semilla_kaggle)\n",
        "  return(drealidad)\n",
        "}\n",
        "\n",
        "# Evaluate gain (simulates Kaggle split)\n",
        "realidad_evaluar <- function(prealidad, pprediccion) {\n",
        "  prealidad[pprediccion, on = c(\"numero_de_cliente\", \"foto_mes\"), \n",
        "            predicted := i.Predicted]\n",
        "  \n",
        "  tbl <- prealidad[, list(qty = .N), by = list(fold, predicted, clase_ternaria)]\n",
        "  \n",
        "  res <- list()\n",
        "  res$public <- tbl[fold == 1 & predicted == 1L, \n",
        "    sum(qty * ifelse(clase_ternaria == \"BAJA+2\", 780000, -20000))] / 0.3\n",
        "  res$private <- tbl[fold == 2 & predicted == 1L, \n",
        "    sum(qty * ifelse(clase_ternaria == \"BAJA+2\", 780000, -20000))] / 0.7\n",
        "  res$total <- tbl[predicted == 1L, \n",
        "    sum(qty * ifelse(clase_ternaria == \"BAJA+2\", 780000, -20000))]\n",
        "  \n",
        "  prealidad[, predicted := NULL]\n",
        "  return(res)\n",
        "}\n",
        "\n",
        "# Objective function for Bayesian Optimization\n",
        "EstimarGanancia_AUC_lightgbm <- function(x) {\n",
        "  param_completo <- modifyList(PARAM$lgbm$param_fijos, x)\n",
        "  \n",
        "  modelocv <- lgb.cv(\n",
        "    data = dtrain,\n",
        "    nfold = PARAM$hyperparametertuning$xval_folds,\n",
        "    stratified = TRUE,\n",
        "    param = param_completo\n",
        "  )\n",
        "  \n",
        "  AUC <- modelocv$best_score\n",
        "  rm(modelocv)\n",
        "  gc(full = TRUE, verbose = FALSE)\n",
        "  \n",
        "  message(format(Sys.time(), \"%a %b %d %X %Y\"), \" AUC \", AUC)\n",
        "  return(AUC)\n",
        "}\n",
        "\n",
        "cat(\"Helper functions defined\\n\")"
      ]
    },
    {
      "cell_type": "markdown",
      "metadata": {},
      "source": [
        "## 6. Training Dataset Preparation"
      ]
    },
    {
      "cell_type": "code",
      "execution_count": null,
      "metadata": {
        "vscode": {
          "languageId": "r"
        }
      },
      "outputs": [],
      "source": [
        "# Create experiment directory\n",
        "exp_name <- sprintf(\"exp%03d_seed_%d\", PARAM$experimento, PARAM$semilla_primigenia)\n",
        "exp_dir <- file.path(BASE_PATH, \"results\", exp_name)\n",
        "dir.create(exp_dir, recursive = TRUE, showWarnings = FALSE)\n",
        "setwd(exp_dir)\n",
        "\n",
        "cat(\"Working directory:\", getwd(), \"\\n\")"
      ]
    },
    {
      "cell_type": "code",
      "execution_count": null,
      "metadata": {
        "vscode": {
          "languageId": "r"
        }
      },
      "outputs": [],
      "source": [
        "# Filter training data\n",
        "dataset_train <- dataset[foto_mes %in% PARAM$train]\n",
        "\n",
        "cat(\"Training dataset:\\n\")\n",
        "cat(\"  Total rows:\", nrow(dataset_train), \"\\n\")\n",
        "print(dataset_train[, .N, by = clase_ternaria])"
      ]
    },
    {
      "cell_type": "code",
      "execution_count": null,
      "metadata": {
        "vscode": {
          "languageId": "r"
        }
      },
      "outputs": [],
      "source": [
        "# Apply undersampling\n",
        "set.seed(PARAM$semilla_primigenia, kind = \"L'Ecuyer-CMRG\")\n",
        "dataset_train[, azar := runif(nrow(dataset_train))]\n",
        "dataset_train[, training := 0L]\n",
        "\n",
        "dataset_train[\n",
        "  foto_mes %in% PARAM$train &\n",
        "    (azar <= PARAM$trainingstrategy$undersampling | \n",
        "     clase_ternaria %in% c(\"BAJA+1\", \"BAJA+2\")),\n",
        "  training := 1L\n",
        "]\n",
        "\n",
        "cat(\"\\nAfter undersampling:\\n\")\n",
        "print(dataset_train[training == 1L, .N, by = clase_ternaria])\n",
        "cat(\"  Total training rows:\", dataset_train[training == 1L, .N], \"\\n\")"
      ]
    },
    {
      "cell_type": "code",
      "execution_count": null,
      "metadata": {
        "vscode": {
          "languageId": "r"
        }
      },
      "outputs": [],
      "source": [
        "# Clase01 binaria de la clase ternaria\n",
        "dataset_train[,\n",
        "  clase01 := ifelse(clase_ternaria %in% c(\"BAJA+2\",\"BAJA+1\"), 1L, 0L)\n",
        "]\n",
        "# Define features\n",
        "campos_buenos <- setdiff(\n",
        "  colnames(dataset_train),\n",
        "  c(\"clase_ternaria\", \"clase01\", \"azar\", \"training\")\n",
        ")\n",
        "\n",
        "cat(\"Features for training:\", length(campos_buenos), \"\\n\")\n",
        "\n",
        "# Create LightGBM dataset\n",
        "dtrain <- lgb.Dataset(\n",
        "  data = data.matrix(dataset_train[training == 1L, campos_buenos, with = FALSE]),\n",
        "  label = dataset_train[training == 1L, clase01],\n",
        "  free_raw_data = FALSE\n",
        ")\n",
        "\n",
        "cat(\"LightGBM training dataset created:\\n\")\n",
        "cat(\"  Rows:\", nrow(dtrain), \"\\n\")\n",
        "cat(\"  Columns:\", ncol(dtrain), \"\\n\")"
      ]
    },
    {
      "cell_type": "markdown",
      "metadata": {},
      "source": [
        "## 7. Bayesian Optimization"
      ]
    },
    {
      "cell_type": "code",
      "execution_count": null,
      "metadata": {
        "vscode": {
          "languageId": "r"
        }
      },
      "outputs": [],
      "source": [
        "# Configure Bayesian Optimization\n",
        "kbayesiana <- \"bayesiana.RDATA\"\n",
        "\n",
        "configureMlr(show.learner.output = FALSE)\n",
        "\n",
        "obj.fun <- makeSingleObjectiveFunction(\n",
        "  fn = EstimarGanancia_AUC_lightgbm,\n",
        "  minimize = FALSE,\n",
        "  noisy = TRUE,\n",
        "  par.set = PARAM$hypeparametertuning$hs,\n",
        "  has.simple.signature = FALSE\n",
        ")\n",
        "\n",
        "ctrl <- makeMBOControl(\n",
        "  save.on.disk.at.time = 600,\n",
        "  save.file.path = kbayesiana\n",
        ")\n",
        "\n",
        "ctrl <- setMBOControlTermination(ctrl, iters = PARAM$hyperparametertuning$iteraciones)\n",
        "ctrl <- setMBOControlInfill(ctrl, crit = makeMBOInfillCritEI())\n",
        "\n",
        "surr.km <- makeLearner(\n",
        "  \"regr.km\",\n",
        "  predict.type = \"se\",\n",
        "  covtype = \"matern3_2\",\n",
        "  control = list(trace = TRUE)\n",
        ")\n",
        "\n",
        "cat(\"Bayesian Optimization configured\\n\")\n",
        "cat(\"  Iterations:\", PARAM$hyperparametertuning$iteraciones, \"\\n\")"
      ]
    },
    {
      "cell_type": "code",
      "execution_count": null,
      "metadata": {
        "vscode": {
          "languageId": "r"
        }
      },
      "outputs": [],
      "source": [
        "# Run Bayesian Optimization (this will take a while)\n",
        "cat(\"\\nStarting Bayesian Optimization...\\n\")\n",
        "cat(\"This may take several hours depending on iterations\\n\\n\")\n",
        "\n",
        "if (!file.exists(kbayesiana)) {\n",
        "  bayesiana_salida <- mbo(obj.fun, learner = surr.km, control = ctrl)\n",
        "} else {\n",
        "  cat(\"Continuing from existing bayesiana.RDATA\\n\")\n",
        "  bayesiana_salida <- mboContinue(kbayesiana)\n",
        "}\n",
        "\n",
        "cat(\"\\nBayesian Optimization completed\\n\")"
      ]
    },
    {
      "cell_type": "code",
      "execution_count": null,
      "metadata": {
        "vscode": {
          "languageId": "r"
        }
      },
      "outputs": [],
      "source": [
        "# Save and analyze results\n",
        "tb_bayesiana <- as.data.table(bayesiana_salida$opt.path)\n",
        "tb_bayesiana[, iter := .I]\n",
        "setorder(tb_bayesiana, -y)\n",
        "\n",
        "fwrite(tb_bayesiana, file = \"BO_log.txt\", sep = \"\\t\")\n",
        "\n",
        "# Extract best hyperparameters\n",
        "PARAM$out$lgbm$mejores_hiperparametros <- tb_bayesiana[1, \n",
        "  setdiff(colnames(tb_bayesiana),\n",
        "    c(\"y\", \"dob\", \"eol\", \"error.message\", \"exec.time\", \"ei\", \"error.model\",\n",
        "      \"train.time\", \"prop.type\", \"propose.time\", \"se\", \"mean\", \"iter\")),\n",
        "  with = FALSE\n",
        "]\n",
        "\n",
        "PARAM$out$lgbm$y <- tb_bayesiana[1, y]\n",
        "\n",
        "cat(\"\\nBest hyperparameters found:\\n\")\n",
        "print(PARAM$out$lgbm$mejores_hiperparametros)\n",
        "cat(\"\\nBest AUC:\", PARAM$out$lgbm$y, \"\\n\")\n",
        "\n",
        "write_yaml(PARAM, file = \"PARAM.yml\")\n",
        "cat(\"\\nParameters saved to PARAM.yml\\n\")"
      ]
    },
    {
      "cell_type": "markdown",
      "metadata": {},
      "source": [
        "## 8. Validation - Final Model Training"
      ]
    },
    {
      "cell_type": "code",
      "execution_count": null,
      "metadata": {
        "vscode": {
          "languageId": "r"
        }
      },
      "outputs": [],
      "source": [
        "# Prepare final training dataset (includes validation period)\n",
        "dataset_train_validate <- dataset[foto_mes %in% PARAM$train_validate]\n",
        "\n",
        "dataset_train_validate[,\n",
        "  clase01 := ifelse(clase_ternaria %in% c(\"BAJA+2\",\"BAJA+1\"), 1L, 0L)\n",
        "]\n",
        "\n",
        "cat(\"Final training dataset:\\n\")\n",
        "cat(\"  Total rows:\", nrow(dataset_train_validate), \"\\n\")\n",
        "print(dataset_train_validate[, .N, by = clase_ternaria])\n",
        "\n",
        "dtrain_validate <- lgb.Dataset(\n",
        "  data = data.matrix(dataset_train_validate[, campos_buenos, with = FALSE]),\n",
        "  label = dataset_train_validate[, clase01]\n",
        ")\n",
        "\n",
        "cat(\"\\nLightGBM dataset created for validation training\\n\")"
      ]
    },
    {
      "cell_type": "code",
      "execution_count": null,
      "metadata": {
        "vscode": {
          "languageId": "r"
        }
      },
      "outputs": [],
      "source": [
        "# Prepare final parameters\n",
        "param_final <- modifyList(PARAM$lgbm$param_fijos, \n",
        "                          PARAM$out$lgbm$mejores_hiperparametros)\n",
        "\n",
        "# Normalize min_data_in_leaf for full dataset (no undersampling)\n",
        "param_normalizado <- copy(param_final)\n",
        "param_normalizado$min_data_in_leaf <- round(\n",
        "  param_final$min_data_in_leaf / PARAM$trainingstrategy$undersampling\n",
        ")\n",
        "\n",
        "cat(\"Final parameters prepared\\n\")\n",
        "cat(\"  Original min_data_in_leaf:\", param_final$min_data_in_leaf, \"\\n\")\n",
        "cat(\"  Normalized min_data_in_leaf:\", param_normalizado$min_data_in_leaf, \"\\n\")"
      ]
    },
    {
      "cell_type": "code",
      "execution_count": null,
      "metadata": {
        "vscode": {
          "languageId": "r"
        }
      },
      "outputs": [],
      "source": [
        "param_final$seed = 876234\n",
        "print(param_final)"
      ]
    },
    {
      "cell_type": "code",
      "execution_count": null,
      "metadata": {
        "vscode": {
          "languageId": "r"
        }
      },
      "outputs": [],
      "source": [
        "# Train final model\n",
        "cat(\"\\nTraining validate model...\\n\")\n",
        "modelo_final <- lgb.train(data = dtrain_validate, param = param_normalizado)\n",
        "cat(\"Final model trained successfully\\n\")"
      ]
    },
    {
      "cell_type": "code",
      "execution_count": null,
      "metadata": {
        "vscode": {
          "languageId": "r"
        }
      },
      "outputs": [],
      "source": [
        "# Feature importance\n",
        "tb_importancia <- as.data.table(lgb.importance(modelo_final))\n",
        "fwrite(tb_importancia, file = \"impo.txt\", sep = \"\\t\")\n",
        "\n",
        "cat(\"\\nTop 10 most important features:\\n\")\n",
        "print(head(tb_importancia, 10))\n",
        "\n",
        "# Save model\n",
        "lgb.save(modelo_final, \"modelo.txt\")\n",
        "cat(\"\\nModel and importance saved\\n\")"
      ]
    },
    {
      "cell_type": "markdown",
      "metadata": {},
      "source": [
        "## 9. Validation - Predictions"
      ]
    },
    {
      "cell_type": "code",
      "execution_count": null,
      "metadata": {
        "vscode": {
          "languageId": "r"
        }
      },
      "outputs": [],
      "source": [
        "# Predict on validation set\n",
        "dvalidate <- dataset[foto_mes %in% PARAM$validate]\n",
        "\n",
        "cat(\"Validation dataset:\\n\")\n",
        "cat(\"  Rows:\", nrow(dvalidate), \"\\n\")\n",
        "print(dvalidate[, .N, by = clase_ternaria])\n",
        "\n",
        "prediccion <- predict(modelo_final, \n",
        "  data.matrix(dvalidate[, campos_buenos, with = FALSE]))\n",
        "\n",
        "cat(\"\\nPredictions generated\\n\")\n",
        "cat(\"  Mean probability:\", mean(prediccion), \"\\n\")\n",
        "cat(\"  Min probability:\", min(prediccion), \"\\n\")\n",
        "cat(\"  Max probability:\", max(prediccion), \"\\n\")"
      ]
    },
    {
      "cell_type": "code",
      "execution_count": null,
      "metadata": {
        "vscode": {
          "languageId": "r"
        }
      },
      "outputs": [],
      "source": [
        "# Prepare prediction table\n",
        "tb_prediccion <- dvalidate[, list(numero_de_cliente, foto_mes)]\n",
        "tb_prediccion[, prob := prediccion]\n",
        "\n",
        "fwrite(tb_prediccion, file = \"prediccion.txt\", sep = \"\\t\")\n",
        "\n",
        "# Initialize reality dataset for gain evaluation\n",
        "drealidad <- realidad_inicializar(dvalidate, PARAM)\n",
        "\n",
        "cat(\"Prediction table created and saved\\n\")"
      ]
    },
    {
      "cell_type": "markdown",
      "metadata": {},
      "source": [
        "## 10. Kaggle Submissions (Validation)"
      ]
    },
    {
      "cell_type": "code",
      "execution_count": null,
      "metadata": {
        "vscode": {
          "languageId": "r"
        }
      },
      "outputs": [],
      "source": [
        "# Generate submissions for different cutoffs\n",
        "setorder(tb_prediccion, -prob)\n",
        "dir.create(\"kaggle\", showWarnings = FALSE)\n",
        "\n",
        "gain_results <- data.table()\n",
        "\n",
        "cat(\"\\n--- Validation Gains ---\\n\")\n",
        "cat(sprintf(\"%-10s %-15s %-15s %-15s %-15s\\n\", \n",
        "            \"Envios\", \"Threshold\", \"Total\", \"Public\", \"Private\"))\n",
        "cat(strrep(\"-\", 70), \"\\n\")\n",
        "\n",
        "for (envios in PARAM$cortes) {\n",
        "  tb_prediccion[, Predicted := 0L]\n",
        "  tb_prediccion[1:envios, Predicted := 1L]\n",
        "  \n",
        "  archivo_kaggle <- paste0(\"./kaggle/KA\", PARAM$experimento, \"_\", envios, \".csv\")\n",
        "  fwrite(tb_prediccion[, list(numero_de_cliente, Predicted)],\n",
        "    file = archivo_kaggle, sep = \",\")\n",
        "  \n",
        "  res <- realidad_evaluar(drealidad, tb_prediccion)\n",
        "  prob_threshold <- tb_prediccion[envios, prob]\n",
        "  \n",
        "  gain_results <- rbind(gain_results, data.table(\n",
        "    envios = envios,\n",
        "    prob_threshold = prob_threshold,\n",
        "    gain_total = res$total,\n",
        "    gain_public = res$public,\n",
        "    gain_private = res$private\n",
        "  ))\n",
        "  \n",
        "  cat(sprintf(\"%-10d %-15.6f %-15.0f %-15.0f %-15.0f\\n\",\n",
        "    envios, prob_threshold, res$total, res$public, res$private))\n",
        "}\n",
        "\n",
        "# Save results\n",
        "fwrite(gain_results, file = \"gain_results.csv\")\n",
        "cat(\"\\nGain results saved to gain_results.csv\\n\")"
      ]
    },
    {
      "cell_type": "code",
      "execution_count": null,
      "metadata": {
        "vscode": {
          "languageId": "r"
        }
      },
      "outputs": [],
      "source": [
        "# Find optimal cutoff\n",
        "options(scipen = 999)\n",
        "optimal_row <- gain_results[which.max(gain_total)]\n",
        "\n",
        "cat(\"\\n=== OPTIMAL CUTOFF ===\\n\")\n",
        "cat(\"Envios:\", optimal_row$envios, \"\\n\")\n",
        "cat(\"Probability threshold:\", optimal_row$prob_threshold, \"\\n\")\n",
        "cat(\"Total gain:\", optimal_row$gain_total, \"\\n\")\n",
        "cat(\"Public gain:\", optimal_row$gain_public, \"\\n\")\n",
        "cat(\"Private gain:\", optimal_row$gain_private, \"\\n\")"
      ]
    },
    {
      "cell_type": "code",
      "execution_count": null,
      "metadata": {
        "vscode": {
          "languageId": "r"
        }
      },
      "outputs": [],
      "source": [
        "# Plot results\n",
        "p1 <- ggplot(gain_results, aes(x = envios, y = gain_total)) +\n",
        "  geom_line(color = \"blue\", size = 1) +\n",
        "  geom_point(color = \"blue\", size = 3) +\n",
        "  geom_vline(xintercept = optimal_row$envios, linetype = \"dashed\", color = \"red\") +\n",
        "  geom_text(aes(x = optimal_row$envios, y = max(gain_total), \n",
        "                label = paste(\"Optimal:\", optimal_row$envios)),\n",
        "            hjust = -0.1, color = \"red\") +\n",
        "  labs(title = \"Total Gain vs Number of Submissions\",\n",
        "       x = \"Number of Submissions\", y = \"Total Gain\") +\n",
        "  theme_minimal() +\n",
        "  theme(plot.title = element_text(hjust = 0.5, face = \"bold\"))\n",
        "\n",
        "p2 <- ggplot(gain_results, aes(x = prob_threshold, y = gain_total)) +\n",
        "  geom_line(color = \"darkgreen\", size = 1) +\n",
        "  geom_point(color = \"darkgreen\", size = 3) +\n",
        "  geom_vline(xintercept = optimal_row$prob_threshold, linetype = \"dashed\", color = \"red\") +\n",
        "  labs(title = \"Total Gain vs Probability Threshold\",\n",
        "       x = \"Probability Threshold\", y = \"Total Gain\") +\n",
        "  theme_minimal() +\n",
        "  theme(plot.title = element_text(hjust = 0.5, face = \"bold\"))\n",
        "\n",
        "ggsave(\"gain_vs_envios.png\", p1, width = 10, height = 6)\n",
        "ggsave(\"gain_vs_threshold.png\", p2, width = 10, height = 6)\n",
        "\n",
        "cat(\"\\nPlots saved:\\n\")\n",
        "cat(\"  - gain_vs_envios.png\\n\")\n",
        "cat(\"  - gain_vs_threshold.png\\n\")\n",
        "\n",
        "print(p1)\n",
        "print(p2)"
      ]
    },
    {
      "cell_type": "code",
      "execution_count": null,
      "metadata": {
        "vscode": {
          "languageId": "r"
        }
      },
      "outputs": [],
      "source": []
    },
    {
      "cell_type": "code",
      "execution_count": null,
      "metadata": {
        "vscode": {
          "languageId": "r"
        }
      },
      "outputs": [],
      "source": [
        "options(scipen = 999)\n",
        "stability_seeds <- c(450421, 450599, 862019)\n",
        "stability_results <- data.table()\n",
        "\n",
        "cat(\"=== DEBUG: Starting analysis ===\\n\")\n",
        "\n",
        "# Check if objects exist\n",
        "cat(\"1. Checking object existence...\\n\")\n",
        "cat(\"   param_normalizado exists:\", exists(\"param_normalizado\"), \"\\n\")\n",
        "cat(\"   dtrain_validate exists:\", exists(\"dtrain_validate\"), \"\\n\") \n",
        "cat(\"   dvalidate exists:\", exists(\"dvalidate\"), \"\\n\")\n",
        "cat(\"   campos_buenos exists:\", exists(\"campos_buenos\"), \"\\n\")\n",
        "cat(\"   PARAM exists:\", exists(\"PARAM\"), \"\\n\")\n",
        "\n",
        "# Check object types and sizes\n",
        "cat(\"2. Checking object types...\\n\")\n",
        "if(exists(\"param_normalizado\")) {\n",
        "  cat(\"   param_normalizado type:\", class(param_normalizado), \"\\n\")\n",
        "  cat(\"   param_normalizado length:\", length(param_normalizado), \"\\n\")\n",
        "}\n",
        "\n",
        "if(exists(\"dtrain_validate\")) {\n",
        "  cat(\"   dtrain_validate type:\", class(dtrain_validate), \"\\n\")\n",
        "}\n",
        "\n",
        "if(exists(\"dvalidate\")) {\n",
        "  cat(\"   dvalidate dimensions:\", dim(dvalidate), \"\\n\")\n",
        "}\n",
        "\n",
        "if(exists(\"campos_buenos\")) {\n",
        "  cat(\"   campos_buenos length:\", length(campos_buenos), \"\\n\")\n",
        "}\n",
        "\n",
        "cat(\"3. About to start loop...\\n\")\n",
        "for (seed_idx in seq_along(stability_seeds)) {\n",
        "  cat(\"Seed iteration:\", seed_idx, \"of\", length(stability_seeds), \"\\n\")\n",
        "  \n",
        "  param_test <- param_normalizado\n",
        "  param_test$seed <- stability_seeds[seed_idx]\n",
        "  cat(\"  Parameters prepared\\n\")\n",
        "  \n",
        "  # Check if training data is valid\n",
        "  cat(\"  Training data check...\\n\")\n",
        "  cat(\"    dtrain_validate dimensions:\", dim(dtrain_validate), \"\\n\")\n",
        "  \n",
        "  # Train the model - this is likely where it hangs\n",
        "  cat(\"  Starting model training...\\n\")\n",
        "  modelo_test <- lgb.train(data = dtrain_validate, param = param_test)\n",
        "  cat(\"  Model training completed\\n\")  # If you don't see this, training is hanging\n",
        "  \n",
        "  # If we get here, the rest should work\n",
        "  cat(\"  Making predictions...\\n\")\n",
        "  prediccion_test <- predict(modelo_test, \n",
        "    data.matrix(dvalidate[, campos_buenos, with = FALSE]))\n",
        "  \n",
        "  cat(\"  Creating results table...\\n\")\n",
        "  tb_test <- dvalidate[, list(numero_de_cliente, foto_mes)]\n",
        "  tb_test[, prob := prediccion_test]\n",
        "  \n",
        "  drealidad <- realidad_inicializar(dvalidate, PARAM)\n",
        "  setorder(tb_test, -prob)\n",
        "  \n",
        "  cat(\"\\n--- Seed:\", stability_seeds[seed_idx], \"---\\n\")\n",
        "  cat(sprintf(\"%-10s %-15s %-15s\\n\", \"Envios\", \"Threshold\", \"Total\"))\n",
        "  cat(strrep(\"-\", 40), \"\\n\")\n",
        "  \n",
        "  # Pre-allocate results for this seed\n",
        "  seed_results <- list()\n",
        "  \n",
        "  for (i in seq_along(PARAM$cortes)) {\n",
        "    envios <- PARAM$cortes[i]\n",
        "    tb_test[, Predicted := 0L]\n",
        "    tb_test[1:envios, Predicted := 1L]\n",
        "    \n",
        "    res <- realidad_evaluar(drealidad, tb_test)\n",
        "    prob_threshold <- tb_test[envios, prob]\n",
        "    \n",
        "    seed_results[[i]] <- data.table(\n",
        "      seed = stability_seeds[seed_idx],\n",
        "      envios = envios,\n",
        "      prob_threshold = prob_threshold,\n",
        "      gain_total = res$total\n",
        "    )\n",
        "    \n",
        "    cat(sprintf(\"%-10d %-15.6f %-15.0f\\n\",\n",
        "      envios, prob_threshold, res$total))\n",
        "  }\n",
        "  \n",
        "  # Combine results for this seed\n",
        "  stability_results <- rbindlist(list(stability_results, rbindlist(seed_results)))\n",
        "}\n",
        "\n",
        "# Optional: Clean up memory\n",
        "gc()"
      ]
    },
    {
      "cell_type": "markdown",
      "metadata": {},
      "source": [
        "## 11. Production (Final Prediction)"
      ]
    },
    {
      "cell_type": "code",
      "execution_count": null,
      "metadata": {
        "vscode": {
          "languageId": "r"
        }
      },
      "outputs": [],
      "source": [
        "# Train production model on ALL final training data\n",
        "cat(\"\\n=== TRAINING PRODUCTION MODEL ===\\n\")\n",
        "\n",
        "dfinal <- dataset[foto_mes %in% PARAM$train_final]\n",
        "\n",
        "dfinal[,\n",
        "  clase01 := ifelse(clase_ternaria %in% c(\"BAJA+2\",\"BAJA+1\"), 1L, 0L)\n",
        "]\n",
        "\n",
        "cat(\"Production training dataset:\\n\")\n",
        "print(dfinal[, .N, by = clase_ternaria])\n",
        "\n",
        "dfinal_lgb <- lgb.Dataset(\n",
        "  data = data.matrix(dfinal[, campos_buenos, with = FALSE]),\n",
        "  label = dfinal[, clase01]\n",
        ")\n",
        "\n",
        "modelo_produccion <- lgb.train(data = dfinal_lgb, param = param_normalizado)\n",
        "cat(\"\\nProduction model trained successfully\\n\")"
      ]
    },
    {
      "cell_type": "code",
      "execution_count": null,
      "metadata": {
        "vscode": {
          "languageId": "r"
        }
      },
      "outputs": [],
      "source": [
        "# Predict on future data\n",
        "dpredict <- dataset[foto_mes %in% PARAM$future]\n",
        "\n",
        "cat(\"\\nFuture dataset for prediction:\\n\")\n",
        "cat(\"  Rows:\", nrow(dpredict), \"\\n\")\n",
        "cat(\"  Period:\", PARAM$future, \"\\n\")\n",
        "\n",
        "probs_future <- predict(modelo_produccion, \n",
        "  data.matrix(dpredict[, campos_buenos, with = FALSE]))\n",
        "\n",
        "cat(\"\\nPredictions generated\\n\")\n",
        "cat(\"  Mean probability:\", mean(probs_future), \"\\n\")\n",
        "cat(\"  Min probability:\", min(probs_future), \"\\n\")\n",
        "cat(\"  Max probability:\", max(probs_future), \"\\n\")"
      ]
    },
    {
      "cell_type": "code",
      "execution_count": null,
      "metadata": {
        "vscode": {
          "languageId": "r"
        }
      },
      "outputs": [],
      "source": [
        "# Create final prediction table\n",
        "tb_pred_final <- data.table(\n",
        "  numero_de_cliente = dpredict$numero_de_cliente,\n",
        "  prob = probs_future\n",
        ")\n",
        "\n",
        "setorder(tb_pred_final, -prob)\n",
        "\n",
        "# Apply optimal cutoff from validation\n",
        "#ENVIOS_OPTIMO <- gain_results[which.max(gain_total), envios]\n",
        "ENVIOS_OPTIMO <- 11000\n",
        "\n",
        "tb_pred_final[, Predicted := 0L]\n",
        "tb_pred_final[1:ENVIOS_OPTIMO, Predicted := 1L]\n",
        "\n",
        "cat(\"\\n=== FINAL SUBMISSION ===\\n\")\n",
        "cat(\"Optimal number of submissions:\", ENVIOS_OPTIMO, \"\\n\")\n",
        "cat(\"Predicted BAJA+2:\", sum(tb_pred_final$Predicted), \"\\n\")\n",
        "cat(\"Percentage:\", round(100 * sum(tb_pred_final$Predicted) / nrow(tb_pred_final), 2), \"%\\n\")\n",
        "\n",
        "# Save final submission\n",
        "fwrite(tb_pred_final[, list(numero_de_cliente, Predicted)], \n",
        "  file = \"prediccion_final.csv\", sep = \",\")\n",
        "\n",
        "# Also save with probabilities for analysis\n",
        "fwrite(tb_pred_final, file = \"prediccion_final_with_probs.csv\", sep = \",\")\n",
        "\n",
        "cat(\"\\nFiles saved:\\n\")\n",
        "cat(\"  - prediccion_final.csv (for Kaggle submission)\\n\")\n",
        "cat(\"  - prediccion_final_with_probs.csv (for analysis)\\n\")"
      ]
    },
    {
      "cell_type": "markdown",
      "metadata": {},
      "source": [
        "## 12. Summary"
      ]
    },
    {
      "cell_type": "code",
      "execution_count": null,
      "metadata": {
        "vscode": {
          "languageId": "r"
        }
      },
      "outputs": [],
      "source": [
        "# Final summary\n",
        "cat(\"\\n\", strrep(\"=\", 70), \"\\n\")\n",
        "cat(\"EXPERIMENT SUMMARY\\n\")\n",
        "cat(strrep(\"=\", 70), \"\\n\\n\")\n",
        "\n",
        "cat(\"Configuration:\\n\")\n",
        "cat(\"  Experiment:\", PARAM$experimento, \"\\n\")\n",
        "cat(\"  Seed:\", PARAM$semilla_primigenia, \"\\n\")\n",
        "cat(\"  Training periods:\", paste(PARAM$train, collapse = \", \"), \"\\n\")\n",
        "cat(\"  Validation period:\", PARAM$validate, \"\\n\")\n",
        "cat(\"  Future period:\", PARAM$future, \"\\n\")\n",
        "cat(\"  Undersampling:\", PARAM$trainingstrategy$undersampling, \"\\n\")\n",
        "\n",
        "cat(\"\\nBayesian Optimization:\\n\")\n",
        "cat(\"  Iterations:\", PARAM$hyperparametertuning$iteraciones, \"\\n\")\n",
        "cat(\"  Best AUC:\", PARAM$out$lgbm$y, \"\\n\")\n",
        "\n",
        "cat(\"\\nValidation Results:\\n\")\n",
        "cat(\"  Optimal envios:\", optimal_row$envios, \"\\n\")\n",
        "cat(\"  Optimal threshold:\", round(optimal_row$prob_threshold, 6), \"\\n\")\n",
        "cat(\"  Expected total gain:\", optimal_row$gain_total, \"\\n\")\n",
        "cat(\"  Expected public gain:\", optimal_row$gain_public, \"\\n\")\n",
        "cat(\"  Expected private gain:\", optimal_row$gain_private, \"\\n\")\n",
        "\n",
        "cat(\"\\nFinal Prediction:\\n\")\n",
        "cat(\"  Total customers:\", nrow(tb_pred_final), \"\\n\")\n",
        "cat(\"  Predicted BAJA+2:\", sum(tb_pred_final$Predicted), \"\\n\")\n",
        "cat(\"  Submission file: prediccion_final.csv\\n\")\n",
        "\n",
        "cat(\"\\nOutput directory:\", getwd(), \"\\n\")\n",
        "cat(\"\\nCompleted:\", format(Sys.time(), \"%a %b %d %X %Y\"), \"\\n\")\n",
        "cat(strrep(\"=\", 70), \"\\n\")"
      ]
    }
  ],
  "metadata": {
    "kernelspec": {
      "display_name": "R",
      "language": "R",
      "name": "ir"
    },
    "language_info": {
      "codemirror_mode": "r",
      "file_extension": ".r",
      "mimetype": "text/x-r-source",
      "name": "R",
      "pygments_lexer": "r",
      "version": "4.5.1"
    }
  },
  "nbformat": 4,
  "nbformat_minor": 0
}
